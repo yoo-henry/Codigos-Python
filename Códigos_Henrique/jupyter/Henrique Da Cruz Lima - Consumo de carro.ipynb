{
 "cells": [
  {
   "cell_type": "markdown",
   "id": "d2359857",
   "metadata": {},
   "source": [
    "### 🚗 Monitoramento de Consumo de Combustível — Revisão de Python\n",
    "\n",
    "Neste exercício, vamos revisar os principais conceitos de entrada de dados, operadores matemáticos e condicionais em Python com uma aplicação voltada para o mundo automotivo! 🛠️💡\n",
    "\n",
    "### 🎯 Objetivo\n",
    "\n",
    "\n",
    "Criar um programa em Python que ajude motoristas a calcularem o consumo médio de combustível do seu veículo e forneça uma mensagem com base na eficiência da média obtida."
   ]
  },
  {
   "attachments": {
    "image.png": {
     "image/png": "[encoded data removed]"
    }
   },
   "cell_type": "markdown",
   "id": "da4fe07a",
   "metadata": {},
   "source": [
    "### ⚙️ Funcionamento\n",
    "\n",
    "O programa deve solicitar ao usuário:\n",
    "\n",
    "### **Distância percorrida (em km)**\n",
    "\n",
    "Quantidade de combustível gasto (em litros)\n",
    "\n",
    "\n",
    "### **O programa deve calcular o consumo médio:**\n",
    "\n",
    "### **Formula do Consumo:**\n",
    "\n",
    "**consumo_medio = distancia / litros**\n",
    "\n",
    "\n",
    "\n",
    "\n",
    "O valor calculado deve ser exibido junto com uma mensagem de desempenho, conforme a tabela abaixo:\n",
    "\n",
    "\n",
    "\n",
    "### **📊 Classificação**\n",
    "\n",
    "![image.png](attachment:image.png)\n",
    "\n",
    "\n",
    "\n",
    "\n",
    "\n",
    "\n"
   ]
  },
  {
   "cell_type": "markdown",
   "id": "22231250",
   "metadata": {},
   "source": [
    "### ✅ Critérios de Avaliação\n",
    "\n",
    "🔴 Itens críticos (obrigatórios)\n",
    "Nome do repositório apropriado\n",
    "Código funcionando corretamente\n",
    "Entrega dentro do prazo\n",
    "\n",
    "\n",
    "⚫ Itens desejáveis (valem pontos extras)\n",
    "O programa exibe:\n",
    "Nome do usuário\n",
    "Valor calculado do consumo médio\n",
    "Classificação de consumo com base na tabela\n",
    "\n"
   ]
  },
  {
   "cell_type": "markdown",
   "id": "f0014ec2",
   "metadata": {},
   "source": [
    "### 🧠 Dica\n",
    "\n",
    "Este exercício revisa:\n",
    "\n",
    "Entrada de dados com input()\n",
    "Conversão de tipos (float)\n",
    "Operadores aritméticos\n",
    "Estrutura condicional com if, elif, else\n",
    "\n",
    "\n",
    "### 🛠️ Desafio extra\n",
    "Inclua uma sugestão automática de manutenção para veículos com consumo abaixo de 8 km/l. Por exemplo:\n",
    "\n",
    "\"Recomenda-se revisar o motor ou calibrar os pneus.\"\n",
    "\n",
    "Pronto para acelerar no Python? 🏁🚀"
   ]
  },
  {
   "cell_type": "code",
   "execution_count": null,
   "id": "18e32f3e",
   "metadata": {},
   "outputs": [
    {
     "name": "stdout",
     "output_type": "stream",
     "text": [
      "Seu consumo está bem Econômico, continue assim. 😉\n"
     ]
    }
   ],
   "source": [
    "# Pedi para o cliente digitar a distancia que foi percorrida e a quantidade de gasolina que foi gasta \n",
    "distancia = float(input(\"Qual foi a distancia que vc percorreu (em Km) ?\"))\n",
    "combustivel = float(input(\"Quanto de gasolina você gastou (em litros) ?\"))\n",
    "# Eu fiz a média dos dois em só uma variavel \n",
    "consumo_medio = distancia / combustivel\n",
    "# Aqui foi feito um código de condição, com a média do consumo de gasolina e da distancia percorida \n",
    "if consumo_medio < 8.0:\n",
    "    print(\"Você está com um alto consumo de combustivel, recomendo verificar em um mecanico.😐 \")\n",
    "elif consumo_medio >= 8.0 and consumo_medio <= 12.0:\n",
    "    print(\"Seu consumo está modero, fica ligado.😶\")\n",
    "else:\n",
    "    print(\"Seu consumo está bem Econômico, continue assim. 😉\")"
   ]
  }
 ],
 "metadata": {
  "kernelspec": {
   "display_name": "Python 3",
   "language": "python",
   "name": "python3"
  },
  "language_info": {
   "codemirror_mode": {
    "name": "ipython",
    "version": 3
   },
   "file_extension": ".py",
   "mimetype": "text/x-python",
   "name": "python",
   "nbconvert_exporter": "python",
   "pygments_lexer": "ipython3",
   "version": "3.13.2"
  }
 },
 "nbformat": 4,
 "nbformat_minor": 5
}
