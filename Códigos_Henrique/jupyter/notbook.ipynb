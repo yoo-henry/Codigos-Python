{
 "cells": [
  {
   "cell_type": "code",
   "execution_count": 5,
   "id": "dc7cee14",
   "metadata": {},
   "outputs": [
    {
     "name": "stdout",
     "output_type": "stream",
     "text": [
      "Jogo de advinhação!!! Boa Sorte!!\n",
      "------------------------------------\n",
      "Eu vou advinhar seu número!!\n",
      "O seu numero é : 2.0\n"
     ]
    }
   ],
   "source": [
    "print(\"Jogo de advinhação!!! Boa Sorte!!\")\n",
    "print(\"------------------------------------\")\n",
    "numero_usuario = float(input(\"Digite um número : \"))\n",
    "print(f\"Eu vou advinhar seu número!!\")\n",
    "print(f\"O seu numero é : {numero_usuario}\")"
   ]
  },
  {
   "cell_type": "code",
   "execution_count": 9,
   "id": "9a23639c",
   "metadata": {},
   "outputs": [
    {
     "name": "stdout",
     "output_type": "stream",
     "text": [
      "O nome do carro é Fusca\n",
      "Ele custa 10000.0R$\n",
      "Falta 6000.0R$ para vc poder adquirir\n"
     ]
    }
   ],
   "source": [
    "\n",
    "nome_carro = input(\"Informe o nome do seu carro do sonho:\")\n",
    "    # 2º Peça o preço do carro dos sonhos\n",
    "valor_carro = float(input(\"Qual é o valor do seu carro dos sonhos ? \"))\n",
    "    # 3º Pergunte quanto dinheiro o usuário tem e guarde o valor em uma variável\n",
    "dinheiro_guardado = float(input(\"Quanto de dinheiro vc tem guardado no seu banco ? \"))\n",
    "\n",
    "    # 4º Calcule quanto falta para o usuário conseguir comprar o carro\n",
    "falta = valor_carro - dinheiro_guardado\n",
    "    # 5º Mostre na tela o nome do carro o preço dele e quanto falta para o usuário realizar o sonho dele.\n",
    "print(f\"O nome do carro é {nome_carro}\")\n",
    "print(f\"Ele custa {valor_carro}R$\")\n",
    "print(f\"Falta {falta}R$ para vc poder adquirir\")"
   ]
  },
  {
   "cell_type": "markdown",
   "id": "8f6f7731",
   "metadata": {},
   "source": [
    "### Agenda de Celular\n",
    "\n",
    "Peça ao usuário que informe o nome dele e o número do telefone dele\n",
    "\n",
    "Depois mostre ao usuário print() com uma mensagem o nome dele e o número do telefone"
   ]
  },
  {
   "cell_type": "code",
   "execution_count": 10,
   "id": "0348ae4c",
   "metadata": {},
   "outputs": [
    {
     "name": "stdout",
     "output_type": "stream",
     "text": [
      "O seu nome é Henrique  e seu número de telefone é 999999999\n"
     ]
    }
   ],
   "source": [
    "nome = input(\"Digite o seu nome : \")\n",
    "numero_telefone = int(input(\"Digite o seu número de telefone : \"))\n",
    "\n",
    "print(f\"O seu nome é {nome} e seu número de telefone é {numero_telefone}\")"
   ]
  },
  {
   "cell_type": "markdown",
   "id": "c359d7dd",
   "metadata": {},
   "source": [
    "### Adivinha a idade\n",
    "\n",
    "preciso do ano do nascimento e o ano atual\n",
    "\n",
    "formula = ano_atual - ano_nascimento\n",
    "\n",
    "tipo da variavel int"
   ]
  },
  {
   "cell_type": "code",
   "execution_count": 12,
   "id": "a378c9ed",
   "metadata": {},
   "outputs": [
    {
     "name": "stdout",
     "output_type": "stream",
     "text": [
      "Sua idade é 16\n"
     ]
    }
   ],
   "source": [
    "ano_atual = int(input(\"Qual é o ano atual ? \"))\n",
    "ano_nascimento = int(input(\"Em qual ano vc nasceu ? \"))\n",
    "total = ano_atual - ano_nascimento\n",
    "\n",
    "print(f\"Sua idade é {total}\")"
   ]
  },
  {
   "cell_type": "code",
   "execution_count": null,
   "id": "bbbc7a73",
   "metadata": {},
   "outputs": [
    {
     "ename": "ValueError",
     "evalue": "invalid literal for int() with base 10: ''",
     "output_type": "error",
     "traceback": [
      "\u001b[31m---------------------------------------------------------------------------\u001b[39m",
      "\u001b[31mValueError\u001b[39m                                Traceback (most recent call last)",
      "\u001b[36mCell\u001b[39m\u001b[36m \u001b[39m\u001b[32mIn[2]\u001b[39m\u001b[32m, line 1\u001b[39m\n\u001b[32m----> \u001b[39m\u001b[32m1\u001b[39m n1 = \u001b[38;5;28;43mint\u001b[39;49m\u001b[43m \u001b[49m\u001b[43m(\u001b[49m\u001b[38;5;28;43minput\u001b[39;49m\u001b[43m(\u001b[49m\u001b[33;43m\"\u001b[39;49m\u001b[33;43mDigite um numero\u001b[39;49m\u001b[33;43m\"\u001b[39;49m\u001b[43m)\u001b[49m\u001b[43m)\u001b[49m\n\u001b[32m      2\u001b[39m n2 = \u001b[38;5;28mint\u001b[39m(\u001b[38;5;28minput\u001b[39m(\u001b[33m\"\u001b[39m\u001b[33mDigite outro numero\u001b[39m\u001b[33m\"\u001b[39m))\n\u001b[32m      3\u001b[39m total = n1 = n2\n",
      "\u001b[31mValueError\u001b[39m: invalid literal for int() with base 10: ''"
     ]
    }
   ],
   "source": [
    "print(\"Projeto soma\")\n",
    "n1 = int (input(\"Digite um numero\"))\n",
    "n2 = int(input(\"Digite outro numero\"))\n",
    "total = n1 = n2\n",
    "print(total)"
   ]
  }
 ],
 "metadata": {
  "kernelspec": {
   "display_name": "Python 3",
   "language": "python",
   "name": "python3"
  },
  "language_info": {
   "codemirror_mode": {
    "name": "ipython",
    "version": 3
   },
   "file_extension": ".py",
   "mimetype": "text/x-python",
   "name": "python",
   "nbconvert_exporter": "python",
   "pygments_lexer": "ipython3",
   "version": "3.13.2"
  }
 },
 "nbformat": 4,
 "nbformat_minor": 5
}
