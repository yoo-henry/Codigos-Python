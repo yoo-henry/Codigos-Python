{
 "cells": [
  {
   "cell_type": "code",
   "execution_count": null,
   "id": "b2df01db",
   "metadata": {},
   "outputs": [],
   "source": [
    "import pyautogui as aut\n",
    "\n",
    "aut.hotkey(\"Win\", \"r\")\n",
    "aut.write(\"notepad\", interval=0.7)\n",
    "aut.sleep(1)\n",
    "aut.press(\"Enter\")\n",
    "aut.sleep(1)\n",
    "aut.moveTo(130,180)\n",
    "aut.click()\n",
    "aut.sleep(1)\n",
    "aut.write(\"Quem leu e tchola\", interval=0.2)"
   ]
  },
  {
   "cell_type": "markdown",
   "id": "729c1664",
   "metadata": {},
   "source": [
    "#Abaixar atividade do classroom automatico"
   ]
  },
  {
   "cell_type": "code",
   "execution_count": null,
   "id": "f398cbea",
   "metadata": {},
   "outputs": [],
   "source": [
    "import pyautogui as aut\n",
    "\n",
    "#Parte de Abaixar a atividade no classroom\n",
    "\n",
    "aut.hotkey(\"Win\")\n",
    "aut.write(\"Chrome\")\n",
    "aut.sleep(1)\n",
    "aut.press(\"Enter\")\n",
    "aut.sleep(2)\n",
    "aut.moveTo(554,59)\n",
    "aut.click\n",
    "aut.write(\"https://classroom.google.com/c/NzAwNTU0Njc2MzY3\", interval=0.1)\n",
    "aut.press(\"Enter\")\n",
    "aut.sleep(5)\n",
    "aut.moveTo(1065,611)\n",
    "aut.sleep(1.5)\n",
    "aut.click()\n",
    "aut.sleep(1)\n",
    "aut.moveTo(1411,246)\n",
    "aut.click()\n",
    "aut.sleep(4)\n",
    "aut.moveTo(942,559)\n",
    "aut.click()\n",
    "aut.sleep(2)\n",
    "#Parte de jogar para minha pasta\n",
    "aut.hotkey(\"Win\",\"e\")\n",
    "aut.sleep(1.5)\n",
    "aut.moveTo(451,522)\n",
    "aut.click()\n",
    "aut.sleep(1)\n",
    "aut.moveTo(650,408)\n",
    "aut.click()\n",
    "aut.hotkey(\"Ctrl\", \"c\")\n",
    "aut.sleep(1)\n",
    "aut.moveTo(454,486)\n",
    "aut.click()\n",
    "aut.sleep(0.5)\n",
    "aut.moveTo(665,385)\n",
    "aut.doubleClick()\n",
    "aut.sleep(0.5)\n",
    "aut.moveTo(636,383)\n",
    "aut.doubleClick()\n",
    "aut.sleep(0.5)\n",
    "aut.moveTo(1287,438)\n",
    "aut.doubleClick()\n",
    "aut.hotkey(\"Ctrl\",\"v\")"
   ]
  },
  {
   "cell_type": "code",
   "execution_count": null,
   "id": "c6835644",
   "metadata": {},
   "outputs": [],
   "source": [
    "import pyautogui as aut\n",
    "aut.hotkey(\"Win\",\"e\")"
   ]
  },
  {
   "cell_type": "markdown",
   "id": "6d5d511d",
   "metadata": {},
   "source": [
    "#Youtube automatico"
   ]
  },
  {
   "cell_type": "code",
   "execution_count": 20,
   "id": "26c89e75",
   "metadata": {},
   "outputs": [
    {
     "ename": "KeyboardInterrupt",
     "evalue": "",
     "output_type": "error",
     "traceback": [
      "\u001b[31m---------------------------------------------------------------------------\u001b[39m",
      "\u001b[31mKeyboardInterrupt\u001b[39m                         Traceback (most recent call last)",
      "\u001b[36mCell\u001b[39m\u001b[36m \u001b[39m\u001b[32mIn[20]\u001b[39m\u001b[32m, line 10\u001b[39m\n\u001b[32m      8\u001b[39m aut.moveTo(\u001b[32m554\u001b[39m,\u001b[32m59\u001b[39m)\n\u001b[32m      9\u001b[39m aut.click\n\u001b[32m---> \u001b[39m\u001b[32m10\u001b[39m \u001b[43maut\u001b[49m\u001b[43m.\u001b[49m\u001b[43mwrite\u001b[49m\u001b[43m(\u001b[49m\u001b[33;43m\"\u001b[39;49m\u001b[33;43mhttps://www.youtube.com/watch?v=0JoPB_Q2T0k\u001b[39;49m\u001b[33;43m\"\u001b[39;49m\u001b[43m,\u001b[49m\u001b[43m \u001b[49m\u001b[43minterval\u001b[49m\u001b[43m=\u001b[49m\u001b[32;43m0.1\u001b[39;49m\u001b[43m)\u001b[49m\n\u001b[32m     11\u001b[39m aut.hotkey(\u001b[33m\"\u001b[39m\u001b[33mEnter\u001b[39m\u001b[33m\"\u001b[39m)\n\u001b[32m     12\u001b[39m aut.sleep(\u001b[32m10\u001b[39m)\n",
      "\u001b[36mFile \u001b[39m\u001b[32m~\\AppData\\Roaming\\Python\\Python313\\site-packages\\pyautogui\\__init__.py:594\u001b[39m, in \u001b[36m_genericPyAutoGUIChecks.<locals>.wrapper\u001b[39m\u001b[34m(*args, **kwargs)\u001b[39m\n\u001b[32m    591\u001b[39m \u001b[38;5;129m@functools\u001b[39m.wraps(wrappedFunction)\n\u001b[32m    592\u001b[39m \u001b[38;5;28;01mdef\u001b[39;00m\u001b[38;5;250m \u001b[39m\u001b[34mwrapper\u001b[39m(*args, **kwargs):\n\u001b[32m    593\u001b[39m     failSafeCheck()\n\u001b[32m--> \u001b[39m\u001b[32m594\u001b[39m     returnVal = \u001b[43mwrappedFunction\u001b[49m\u001b[43m(\u001b[49m\u001b[43m*\u001b[49m\u001b[43margs\u001b[49m\u001b[43m,\u001b[49m\u001b[43m \u001b[49m\u001b[43m*\u001b[49m\u001b[43m*\u001b[49m\u001b[43mkwargs\u001b[49m\u001b[43m)\u001b[49m\n\u001b[32m    595\u001b[39m     _handlePause(kwargs.get(\u001b[33m\"\u001b[39m\u001b[33m_pause\u001b[39m\u001b[33m\"\u001b[39m, \u001b[38;5;28;01mTrue\u001b[39;00m))\n\u001b[32m    596\u001b[39m     \u001b[38;5;28;01mreturn\u001b[39;00m returnVal\n",
      "\u001b[36mFile \u001b[39m\u001b[32m~\\AppData\\Roaming\\Python\\Python313\\site-packages\\pyautogui\\__init__.py:1686\u001b[39m, in \u001b[36mtypewrite\u001b[39m\u001b[34m(message, interval, logScreenshot, _pause)\u001b[39m\n\u001b[32m   1684\u001b[39m     c = c.lower()\n\u001b[32m   1685\u001b[39m press(c, _pause=\u001b[38;5;28;01mFalse\u001b[39;00m)\n\u001b[32m-> \u001b[39m\u001b[32m1686\u001b[39m \u001b[43mtime\u001b[49m\u001b[43m.\u001b[49m\u001b[43msleep\u001b[49m\u001b[43m(\u001b[49m\u001b[43minterval\u001b[49m\u001b[43m)\u001b[49m\n\u001b[32m   1687\u001b[39m failSafeCheck()\n",
      "\u001b[31mKeyboardInterrupt\u001b[39m: "
     ]
    }
   ],
   "source": [
    "import pyautogui as aut\n",
    "\n",
    "aut.hotkey(\"Win\")\n",
    "aut.write(\"Chrome\")\n",
    "aut.sleep(1)\n",
    "aut.press(\"Enter\")\n",
    "aut.sleep(2)\n",
    "aut.moveTo(554,59)\n",
    "aut.click\n",
    "aut.write(\"https://www.youtube.com/watch?v=0JoPB_Q2T0k\", interval=0.1)\n",
    "aut.hotkey(\"Enter\")\n",
    "aut.sleep(10)"
   ]
  },
  {
   "cell_type": "markdown",
   "id": "36daa5f0",
   "metadata": {},
   "source": [
    "#Abrir calculadora automatico"
   ]
  },
  {
   "cell_type": "code",
   "execution_count": 44,
   "id": "1f4b9c16",
   "metadata": {},
   "outputs": [],
   "source": [
    "import pyautogui as aut\n",
    "\n",
    "aut.hotkey(\"Win\")\n",
    "aut.write(\"Calculadora\")\n",
    "aut.press(\"Enter\")\n",
    "aut.sleep(0.5)\n",
    "aut.moveTo(207,519)\n",
    "aut.click()\n",
    "aut.sleep(0.5)\n",
    "aut.moveTo(367,517)\n",
    "aut.click()\n",
    "aut.sleep(0.5)\n",
    "aut.press(\"Enter\")\n",
    "\n",
    "\n"
   ]
  },
  {
   "cell_type": "markdown",
   "id": "a4b70693",
   "metadata": {},
   "source": [
    "# Desenhando um casa no paint, automaticamente"
   ]
  },
  {
   "cell_type": "code",
   "execution_count": 74,
   "id": "b7786973",
   "metadata": {},
   "outputs": [],
   "source": [
    "import pyautogui as aut\n",
    "\n",
    "aut.hotkey(\"Win\")\n",
    "aut.write(\"Paint\")\n",
    "aut.press(\"Enter\")\n",
    "aut.sleep(0.5)\n",
    "aut.moveTo(775,621)\n",
    "#segura o click do mouse\n",
    "aut.mouseDown()\n",
    "#arrasta para/ base da casa\n",
    "aut.dragTo(775,621, duration=0.3)\n",
    "aut.dragTo(778,778, duration=0.3)\n",
    "aut.dragTo(916,780, duration=0.3)\n",
    "aut.dragTo(913,620, duration=0.3)\n",
    "aut.dragTo(775,621, duration=0.3)\n",
    "#Telhado\n",
    "aut.dragTo(692,623, duration=0.2)\n",
    "aut.dragTo(839,507, duration=0.2)\n",
    "aut.dragTo(986,616, duration=0.2)\n",
    "aut.dragTo(692,623, duration=0.2)\n",
    "aut.mouseUp()\n"
   ]
  },
  {
   "cell_type": "code",
   "execution_count": 52,
   "id": "dacf66aa",
   "metadata": {},
   "outputs": [],
   "source": [
    "import pyautogui as aut\n",
    "\n",
    "aut.hotkey(\"Win\")\n",
    "aut.write(\"Paint\")\n",
    "aut.press(\"Enter\")"
   ]
  },
  {
   "cell_type": "code",
   "execution_count": 70,
   "id": "193b5e52",
   "metadata": {},
   "outputs": [],
   "source": [
    "\n",
    "aut.mouseInfo()"
   ]
  },
  {
   "cell_type": "markdown",
   "id": "3f5061ad",
   "metadata": {},
   "source": []
  }
 ],
 "metadata": {
  "kernelspec": {
   "display_name": "Python 3",
   "language": "python",
   "name": "python3"
  },
  "language_info": {
   "codemirror_mode": {
    "name": "ipython",
    "version": 3
   },
   "file_extension": ".py",
   "mimetype": "text/x-python",
   "name": "python",
   "nbconvert_exporter": "python",
   "pygments_lexer": "ipython3",
   "version": "3.13.2"
  }
 },
 "nbformat": 4,
 "nbformat_minor": 5
}
