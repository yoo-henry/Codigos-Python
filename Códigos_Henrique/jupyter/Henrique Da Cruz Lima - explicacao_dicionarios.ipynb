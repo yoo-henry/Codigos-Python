{
  "cells": [
    {
      "cell_type": "markdown",
      "id": "24fa5b17",
      "metadata": {
        "id": "24fa5b17"
      },
      "source": [
        "# Dicionários"
      ]
    },
    {
      "cell_type": "markdown",
      "id": "6f47ffca",
      "metadata": {
        "id": "6f47ffca"
      },
      "source": [
        "## O que são dicionários em Python?\n",
        "Um dicionário em Python é como uma caixa de perguntas e respostas.\n",
        "Cada informação é guardada com uma chave (pergunta) e um valor (resposta).\n",
        "\n",
        "Em vez de acessar as coisas por número (como nas listas), a gente acessa pelo nome da chave."
      ]
    },
    {
      "cell_type": "markdown",
      "id": "dd692238",
      "metadata": {
        "id": "dd692238"
      },
      "source": [
        "✅ Exemplo da vida real:\n",
        "Imagine um contato de celular:\n"
      ]
    },
    {
      "cell_type": "markdown",
      "id": "3bbaab79",
      "metadata": {
        "id": "3bbaab79"
      },
      "source": [
        "| Chave    | Valor     |\n",
        "| -------- | --------- |\n",
        "| Nome     | Ana       |\n",
        "| Telefone | 1234-5678 |\n",
        "| Cidade   | São Paulo |\n"
      ]
    },
    {
      "cell_type": "markdown",
      "id": "a638457a",
      "metadata": {
        "id": "a638457a"
      },
      "source": [
        "Para criar um dicionário utilizamos { }\n",
        "Sintaxe para criar um dicionário:\n",
        "\n",
        "nome_do_dicionario: {<br>\n",
        "    'chave' : valor<br>\n",
        "}\n"
      ]
    },
    {
      "cell_type": "code",
      "execution_count": 1,
      "id": "fd78f388",
      "metadata": {
        "id": "fd78f388"
      },
      "outputs": [],
      "source": [
        "dicionario = {}"
      ]
    },
    {
      "cell_type": "code",
      "execution_count": 2,
      "id": "12f301d4",
      "metadata": {
        "id": "12f301d4",
        "outputId": "86f52d42-5801-479d-8211-d65b7c565a75"
      },
      "outputs": [
        {
          "data": {
            "text/plain": [
              "dict"
            ]
          },
          "execution_count": 2,
          "metadata": {},
          "output_type": "execute_result"
        }
      ],
      "source": [
        "type(dicionario)"
      ]
    },
    {
      "cell_type": "code",
      "execution_count": null,
      "id": "61bf4f27",
      "metadata": {
        "id": "61bf4f27"
      },
      "outputs": [],
      "source": [
        "contato = {\n",
        "    'nome': 'Ana',\n",
        "    'telefone': '1234-5678',\n",
        "    'cidade': 'São Paulo'\n",
        "}\n"
      ]
    },
    {
      "cell_type": "markdown",
      "id": "036ba2a3",
      "metadata": {
        "id": "036ba2a3"
      },
      "source": [
        "Como acessar os valores:\n",
        "\n",
        "Se eu quiser o telefone da Ana:"
      ]
    },
    {
      "cell_type": "code",
      "execution_count": 6,
      "id": "7a257b71",
      "metadata": {
        "id": "7a257b71",
        "outputId": "5b5abb21-e02f-4ada-fb05-2551a3b8371e"
      },
      "outputs": [
        {
          "name": "stdout",
          "output_type": "stream",
          "text": [
            "São Paulo\n"
          ]
        }
      ],
      "source": [
        "print(contato['cidade'])\n"
      ]
    },
    {
      "cell_type": "markdown",
      "id": "35738fd0",
      "metadata": {
        "id": "35738fd0"
      },
      "source": [
        "✅ Mini exemplo com várias operações:"
      ]
    },
    {
      "cell_type": "code",
      "execution_count": 7,
      "id": "ed0d8a38",
      "metadata": {
        "id": "ed0d8a38",
        "outputId": "b877d4bb-f160-4827-ff6c-0ebe5a1606c3"
      },
      "outputs": [
        {
          "name": "stdout",
          "output_type": "stream",
          "text": [
            "Lucas\n",
            "{'nome': 'Lucas', 'idade': 17, 'nota': 8.5, 'escola': 'Senai'}\n"
          ]
        }
      ],
      "source": [
        "aluno = {\n",
        "    'nome': 'Lucas',\n",
        "    'idade': 16,\n",
        "    'nota': 8.5\n",
        "}\n",
        "\n",
        "print(aluno['nome'])        # Lucas\n",
        "aluno['idade'] = 17          # Alterando o valor\n",
        "aluno['escola'] = 'Senai'    # Adicionando uma nova chave\n",
        "print(aluno)\n"
      ]
    },
    {
      "cell_type": "markdown",
      "id": "9dc432e8",
      "metadata": {
        "id": "9dc432e8"
      },
      "source": [
        "✅ Pensamento fácil para decorar:\n",
        "| Conceito   | Exemplo de comparação |\n",
        "| ---------- | --------------------- |\n",
        "| Lista      | Gavetas numeradas     |\n",
        "| Dicionário | Etiquetas com nomes   |\n"
      ]
    },
    {
      "cell_type": "markdown",
      "id": "c5ec7432",
      "metadata": {
        "id": "c5ec7432"
      },
      "source": [
        "📋 Principais Métodos de Dicionários em Python"
      ]
    },
    {
      "cell_type": "markdown",
      "id": "8a425c4f",
      "metadata": {
        "id": "8a425c4f"
      },
      "source": [
        "| Método          | O que faz                                                                       | Exemplo                               | Resultado                                      |\n",
        "| --------------- | ------------------------------------------------------------------------------- | ------------------------------------- | ---------------------------------------------- |\n",
        "| `.keys()`       | Retorna todas as **chaves** do dicionário                                       | `d.keys()`                            | `dict_keys(['nome', 'idade'])`                 |\n",
        "| `.values()`     | Retorna todos os **valores**                                                    | `d.values()`                          | `dict_values(['Ana', 20])`                     |\n",
        "| `.items()`      | Retorna **pares de chave e valor** (tuplas)                                     | `d.items()`                           | `dict_items([('nome', 'Ana'), ('idade', 20)])` |\n",
        "| `.get()`        | Retorna o valor de uma chave, mas **não dá erro se ela não existir**            | `d.get('nome')` / `d.get('endereço')` | `'Ana'` / `None`                               |\n",
        "| `.update()`     | Atualiza o dicionário com **outras chaves/valores**                             | `d.update({'idade': 21})`             | Atualiza o valor de `'idade'`                  |\n",
        "| `.pop()`        | Remove e retorna o **valor de uma chave**                                       | `d.pop('idade')`                      | `20`, e a chave `'idade'` some                 |\n",
        "| `.popitem()`    | Remove e retorna o **último item adicionado**                                   | `d.popitem()`                         | Ex: `('idade', 20)`                            |\n",
        "| `.clear()`      | Apaga **todos os itens** do dicionário                                          | `d.clear()`                           | Fica `{}` (dicionário vazio)                   |\n",
        "| `.setdefault()` | Retorna o valor de uma chave, e **cria ela com um valor padrão se não existir** | `d.setdefault('cidade', 'SP')`        | Se não existir, cria `'cidade': 'SP'`          |\n",
        "| `.copy()`       | Faz uma **cópia** do dicionário                                                 | `copia = d.copy()`                    | `copia` igual ao original                      |\n"
      ]
    },
    {
      "cell_type": "markdown",
      "id": "6b8828ef",
      "metadata": {
        "id": "6b8828ef"
      },
      "source": [
        "# Exercícios"
      ]
    },
    {
      "cell_type": "markdown",
      "id": "d8c6a82d",
      "metadata": {
        "id": "d8c6a82d"
      },
      "source": [
        "## Exercício 1 – Criando um dicionário\n",
        "\n",
        "Crie um dicionário chamado aluno com as seguintes informações:\n",
        "\n",
        "- Nome: João\n",
        "\n",
        "- Idade: 17\n",
        "\n",
        "- Nota final: 8.5\n",
        "\n",
        "Depois, use o comando print() para mostrar o dicionário."
      ]
    },
    {
      "cell_type": "code",
      "execution_count": null,
      "id": "30d8fdb0",
      "metadata": {
        "id": "30d8fdb0"
      },
      "outputs": [
        {
          "name": "stdout",
          "output_type": "stream",
          "text": [
            "{'Nome': 'João', 'Idade': 17, 'Nota final': 8.5}\n"
          ]
        }
      ],
      "source": [
        "aluno = {\n",
        "    \"Nome\" : \"João\",\n",
        "    \"Idade\" : 17,\n",
        "    \"Nota final\" : 8.5,   \n",
        "}\n",
        "print(aluno)"
      ]
    },
    {
      "cell_type": "code",
      "execution_count": null,
      "id": "15c6d5d8",
      "metadata": {
        "id": "15c6d5d8",
        "outputId": "afab8eda-7e6b-43de-f992-5aba935b80b6"
      },
      "outputs": [],
      "source": []
    },
    {
      "cell_type": "markdown",
      "id": "aa7936f8",
      "metadata": {
        "id": "aa7936f8"
      },
      "source": [
        "## Exercício 2 – Acessando valores\n",
        "Usando o dicionário do exercício anterior, imprima apenas o nome e a nota final do aluno."
      ]
    },
    {
      "cell_type": "code",
      "execution_count": 42,
      "id": "eb71ca81",
      "metadata": {
        "id": "eb71ca81"
      },
      "outputs": [
        {
          "name": "stdout",
          "output_type": "stream",
          "text": [
            "João 8.5\n"
          ]
        }
      ],
      "source": [
        "print(aluno[\"Nome\"], aluno[\"Nota final\"])"
      ]
    },
    {
      "cell_type": "code",
      "execution_count": null,
      "id": "1abeaf19",
      "metadata": {
        "id": "1abeaf19",
        "outputId": "2b380db3-5ddf-48c5-f982-ff2bd273bf60"
      },
      "outputs": [],
      "source": []
    },
    {
      "cell_type": "markdown",
      "id": "d81ecacd",
      "metadata": {
        "id": "d81ecacd"
      },
      "source": [
        "## Exercício 3 – Adicionando uma nova informação\n",
        "Adicione ao dicionário aluno uma nova chave chamada 'aprovado' com o valor True.\n",
        "Depois, imprima o dicionário atualizado."
      ]
    },
    {
      "cell_type": "code",
      "execution_count": null,
      "id": "eaaa5fa2",
      "metadata": {
        "id": "eaaa5fa2"
      },
      "outputs": [],
      "source": [
        "aluno.update({\"Aprovado\" : True})\n"
      ]
    },
    {
      "cell_type": "code",
      "execution_count": 44,
      "id": "d4ecabb5",
      "metadata": {
        "id": "d4ecabb5",
        "outputId": "7ebeaa9f-c53e-43ae-eb26-31541c2b65e3"
      },
      "outputs": [
        {
          "data": {
            "text/plain": [
              "{'Nome': 'João', 'Idade': 17, 'Nota final': 8.5, 'Aprovado': True}"
            ]
          },
          "execution_count": 44,
          "metadata": {},
          "output_type": "execute_result"
        }
      ],
      "source": [
        "aluno"
      ]
    },
    {
      "cell_type": "markdown",
      "id": "dbc9b54f",
      "metadata": {
        "id": "dbc9b54f"
      },
      "source": [
        "## Exercício 4 – Alterando valores\n",
        "Mude a idade do aluno para 18 anos.\n",
        "Em seguida, imprima o dicionário para conferir a alteração."
      ]
    },
    {
      "cell_type": "code",
      "execution_count": 47,
      "id": "33bc710e",
      "metadata": {
        "id": "33bc710e"
      },
      "outputs": [],
      "source": [
        "aluno.update({\"Idade\" : 18})"
      ]
    },
    {
      "cell_type": "code",
      "execution_count": 48,
      "id": "1417ffdf",
      "metadata": {
        "id": "1417ffdf",
        "outputId": "0f9afc08-5384-4fc6-f62b-653785645c11"
      },
      "outputs": [
        {
          "data": {
            "text/plain": [
              "{'Nome': 'João', 'Idade': 18, 'Nota final': 8.5, 'Aprovado': True}"
            ]
          },
          "execution_count": 48,
          "metadata": {},
          "output_type": "execute_result"
        }
      ],
      "source": [
        "aluno"
      ]
    },
    {
      "cell_type": "markdown",
      "id": "b3ecc8d0",
      "metadata": {
        "id": "b3ecc8d0"
      },
      "source": [
        "## Exercício 5 – Removendo um item\n",
        "Remova a chave 'nota final' do dicionário.\n",
        "Depois, imprima o dicionário para ver o resultado."
      ]
    },
    {
      "cell_type": "code",
      "execution_count": 51,
      "id": "45087ad5",
      "metadata": {
        "id": "45087ad5"
      },
      "outputs": [
        {
          "data": {
            "text/plain": [
              "8.5"
            ]
          },
          "execution_count": 51,
          "metadata": {},
          "output_type": "execute_result"
        }
      ],
      "source": [
        "aluno.pop(\"Nota final\")"
      ]
    },
    {
      "cell_type": "code",
      "execution_count": 53,
      "id": "167e47ce",
      "metadata": {
        "id": "167e47ce",
        "outputId": "f73f75ca-357a-441b-e413-138fb3af4317"
      },
      "outputs": [
        {
          "data": {
            "text/plain": [
              "{'Nome': 'João', 'Idade': 18, 'Aprovado': True}"
            ]
          },
          "execution_count": 53,
          "metadata": {},
          "output_type": "execute_result"
        }
      ],
      "source": [
        "aluno"
      ]
    },
    {
      "cell_type": "markdown",
      "id": "5b0ad703",
      "metadata": {
        "id": "5b0ad703"
      },
      "source": [
        "## Exercício 6 – Usando .get()\n",
        "Tente acessar a chave 'cidade' usando o método .get().\n",
        "Qual é o resultado? Por que o Python não dá erro?\n",
        "\n"
      ]
    },
    {
      "cell_type": "code",
      "execution_count": null,
      "id": "0e1955b8",
      "metadata": {
        "id": "0e1955b8"
      },
      "outputs": [
        {
          "data": {
            "text/plain": [
              "18"
            ]
          },
          "execution_count": 70,
          "metadata": {},
          "output_type": "execute_result"
        }
      ],
      "source": [
        "aluno.get(\"cidade\")"
      ]
    },
    {
      "cell_type": "code",
      "execution_count": 55,
      "id": "d176b8dd",
      "metadata": {
        "id": "d176b8dd",
        "outputId": "59bf6a71-6dcd-4d19-97ad-c64c2bc7d0d0"
      },
      "outputs": [
        {
          "data": {
            "text/plain": [
              "{'Nome': 'João', 'Idade': 18, 'Aprovado': True}"
            ]
          },
          "execution_count": 55,
          "metadata": {},
          "output_type": "execute_result"
        }
      ],
      "source": [
        "aluno"
      ]
    },
    {
      "cell_type": "markdown",
      "id": "423279b0",
      "metadata": {
        "id": "423279b0"
      },
      "source": [
        "## Exercício 7 – Mostrando todas as chaves e valores\n",
        "Mostre separadamente:\n",
        "\n",
        "Todas as chaves do dicionário\n",
        "\n",
        "Todos os valores do dicionário\n",
        "\n",
        "Todos os pares chave-valor\n",
        "\n",
        "Dica: use os métodos .keys(), .values() e .items()."
      ]
    },
    {
      "cell_type": "code",
      "execution_count": 71,
      "id": "c9003412",
      "metadata": {
        "id": "c9003412"
      },
      "outputs": [
        {
          "name": "stdout",
          "output_type": "stream",
          "text": [
            "dict_values(['João', 18, True])\n",
            "dict_keys(['Nome', 'Idade', 'Aprovado'])\n",
            "dict_items([('Nome', 'João'), ('Idade', 18), ('Aprovado', True)])\n"
          ]
        }
      ],
      "source": [
        "\n",
        "print(aluno.values())\n",
        "print(aluno.keys())\n",
        "print(aluno.items())"
      ]
    },
    {
      "cell_type": "code",
      "execution_count": 62,
      "id": "94973ac1",
      "metadata": {
        "id": "94973ac1",
        "outputId": "3ee96e09-3606-4615-bc2f-7cc3a536528b"
      },
      "outputs": [
        {
          "data": {
            "text/plain": [
              "{'Nome': 'João', 'Idade': 18, 'Aprovado': True}"
            ]
          },
          "execution_count": 62,
          "metadata": {},
          "output_type": "execute_result"
        }
      ],
      "source": [
        "aluno"
      ]
    },
    {
      "cell_type": "markdown",
      "id": "eac7d628",
      "metadata": {
        "id": "eac7d628"
      },
      "source": [
        "## Exercício 8 – Dicionário de listas\n",
        "Crie um dicionário chamado turma com duas chaves:\n",
        "\n",
        "'nomes': contendo uma lista com 3 nomes de alunos\n",
        "\n",
        "'notas': contendo uma lista com 3 notas (uma para cada aluno)\n",
        "\n",
        "Depois, imprima a média das notas da turma."
      ]
    },
    {
      "cell_type": "code",
      "execution_count": null,
      "id": "0730590f",
      "metadata": {
        "id": "0730590f"
      },
      "outputs": [],
      "source": [
        "turma = {\n",
        "    \"nomes\" : [\"Henrique\",\"Breno\",\"Lucas\"],\n",
        "    \"notas\" : [10,8,1],\n",
        "}\n"
      ]
    },
    {
      "cell_type": "code",
      "execution_count": null,
      "id": "2b6d819b",
      "metadata": {
        "id": "2b6d819b",
        "outputId": "5cf05fc1-0793-4fcf-aaa4-f6cdd31df704"
      },
      "outputs": [
        {
          "name": "stdout",
          "output_type": "stream",
          "text": [
            "6\n"
          ]
        }
      ],
      "source": [
        "print(sum(turma[\"notas\"]) //3)"
      ]
    },
    {
      "cell_type": "code",
      "execution_count": 68,
      "id": "5b6eaf2f",
      "metadata": {
        "id": "5b6eaf2f"
      },
      "outputs": [
        {
          "data": {
            "text/plain": [
              "{'nomes': ['Henrique', 'Breno', 'Lucas'], 'notas': [10, 8, 1]}"
            ]
          },
          "execution_count": 68,
          "metadata": {},
          "output_type": "execute_result"
        }
      ],
      "source": [
        "turma"
      ]
    },
    {
      "cell_type": "code",
      "execution_count": null,
      "id": "15bc35cf",
      "metadata": {},
      "outputs": [],
      "source": []
    }
  ],
  "metadata": {
    "colab": {
      "provenance": []
    },
    "kernelspec": {
      "display_name": "Python 3",
      "language": "python",
      "name": "python3"
    },
    "language_info": {
      "codemirror_mode": {
        "name": "ipython",
        "version": 3
      },
      "file_extension": ".py",
      "mimetype": "text/x-python",
      "name": "python",
      "nbconvert_exporter": "python",
      "pygments_lexer": "ipython3",
      "version": "3.13.2"
    }
  },
  "nbformat": 4,
  "nbformat_minor": 5
}
