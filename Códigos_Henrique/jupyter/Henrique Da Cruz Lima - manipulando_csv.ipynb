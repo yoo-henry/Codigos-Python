{
 "cells": [
  {
   "cell_type": "markdown",
   "id": "cc9d55a6",
   "metadata": {},
   "source": [
    "# CSV"
   ]
  },
  {
   "cell_type": "markdown",
   "id": "fb590ec4",
   "metadata": {},
   "source": [
    "CSV (Comma-Separated Values) é um formato de arquivo de texto simples usado para armazenar dados em forma de tabela, onde:\n",
    "\n",
    "- Cada linha representa um registro.\n",
    "- Cada coluna é separada por vírgulas (ou outro delimitador).\n",
    "- Pode ser aberto por Excel, Google Sheets, pandas, etc."
   ]
  },
  {
   "cell_type": "markdown",
   "id": "2209e90f",
   "metadata": {},
   "source": [
    " Exemplo de conteúdo de um alunos.csv:\n",
    "\n",
    "nome,idade,curso<br>\n",
    "Maria,30,Python<br>\n",
    "João,25,Data Science<br>\n"
   ]
  },
  {
   "cell_type": "markdown",
   "id": "e9d29dd3",
   "metadata": {},
   "source": [
    "O módulo csv permite ler e escrever arquivos CSV facilmente. Ele oferece duas formas principais:\n",
    "\n",
    "- Usando listas com csv.reader() e csv.writer()\n",
    "- Usando dicionários com csv.DictReader() e csv.DictWriter()"
   ]
  },
  {
   "cell_type": "markdown",
   "id": "bddada35",
   "metadata": {},
   "source": [
    "# Principais métodos do módulo csv"
   ]
  },
  {
   "cell_type": "markdown",
   "id": "53a4e29c",
   "metadata": {},
   "source": [
    "| Método/Função      | Descrição                                           |\n",
    "| ------------------ | --------------------------------------------------- |\n",
    "| `csv.reader()`     | Lê linhas de um arquivo CSV como listas             |\n",
    "| `csv.writer()`     | Escreve listas como linhas em um arquivo CSV        |\n",
    "| `csv.DictReader()` | Lê o CSV como uma sequência de dicionários (`dict`) |\n",
    "| `csv.DictWriter()` | Escreve dicionários linha por linha em um CSV       |\n"
   ]
  },
  {
   "cell_type": "markdown",
   "id": "42f34bf9",
   "metadata": {},
   "source": [
    "Importando o módulo csv"
   ]
  },
  {
   "cell_type": "code",
   "execution_count": 1,
   "id": "8266b480",
   "metadata": {},
   "outputs": [],
   "source": [
    "import csv"
   ]
  },
  {
   "cell_type": "markdown",
   "id": "9795808c",
   "metadata": {},
   "source": [
    "## 1 - Criando um csv com csv.writer()"
   ]
  },
  {
   "cell_type": "code",
   "execution_count": 2,
   "id": "c39a117e",
   "metadata": {},
   "outputs": [],
   "source": [
    "dados = [\n",
    "    [\"nome\", \"idade\", \"curso\"],\n",
    "    [\"Maria\", 30, \"Python\"],\n",
    "    [\"João\", 25, \"Data Science\"]\n",
    "]\n",
    "\n",
    "# Abrimos o arquivo em modo escrita ('w'), com encoding e newline=''\n",
    "with open(\"alunos.csv\", \"w\", newline='', encoding=\"utf-8\") as arquivo:\n",
    "    \n",
    "    # Criamos o objeto 'writer', que é um ESCRITOR de arquivos CSV.\n",
    "    # Ele é responsável por transformar listas em linhas no arquivo CSV.\n",
    "    escritor = csv.writer(arquivo)\n",
    "    \n",
    "    # Escreve todas as linhas da lista 'dados' de uma vez, .writerows é um método do objeto escritor (writer)\n",
    "    escritor.writerows(dados)\n"
   ]
  },
  {
   "cell_type": "markdown",
   "id": "974c5d2e",
   "metadata": {},
   "source": [
    "⚠️ Observação sobre uso de newline='':\n",
    "\n",
    "Sempre use newline='' ao abrir o arquivo com open() para evitar quebras de linha duplicadas, principalmente no Windows."
   ]
  },
  {
   "cell_type": "markdown",
   "id": "d0079b24",
   "metadata": {},
   "source": [
    "##  2 - Lendo um CSV com csv.reader()"
   ]
  },
  {
   "cell_type": "code",
   "execution_count": 3,
   "id": "d67af2ec",
   "metadata": {},
   "outputs": [
    {
     "name": "stdout",
     "output_type": "stream",
     "text": [
      "['nome', 'idade', 'curso']\n",
      "['Maria', '30', 'Python']\n",
      "['João', '25', 'Data Science']\n"
     ]
    }
   ],
   "source": [
    "# Abrimos o arquivo em modo leitura ('r'), com encoding e newline=''\n",
    "with open(\"alunos.csv\", \"r\", encoding=\"utf-8\") as arquivo:\n",
    "    \n",
    "    # O reader cria um objeto iterável que transforma cada linha do CSV em uma lista.\n",
    "    leitor = csv.reader(arquivo)\n",
    "    \n",
    "    for linha in leitor:\n",
    "        print(linha)\n"
   ]
  },
  {
   "cell_type": "markdown",
   "id": "da9d72ca",
   "metadata": {},
   "source": [
    "##  3 - Lendo como dicionário com csv.DictReader()"
   ]
  },
  {
   "cell_type": "code",
   "execution_count": 4,
   "id": "271f97be",
   "metadata": {},
   "outputs": [
    {
     "name": "stdout",
     "output_type": "stream",
     "text": [
      "{'nome': 'Maria', 'idade': '30', 'curso': 'Python'}\n",
      "{'nome': 'João', 'idade': '25', 'curso': 'Data Science'}\n"
     ]
    }
   ],
   "source": [
    "# Abrimos o arquivo em modo leitura ('r'), com encoding e newline=''\n",
    "with open(\"alunos.csv\", \"r\", encoding=\"utf-8\") as arquivo:\n",
    "    \n",
    "    # DictReader transforma cada linha em um dicionário, usando o cabeçalho como chave.\n",
    "    leitor = csv.DictReader(arquivo)\n",
    "    \n",
    "    for linha in leitor:\n",
    "        print(linha)\n"
   ]
  },
  {
   "cell_type": "markdown",
   "id": "2f14c0d2",
   "metadata": {},
   "source": [
    "## 4 - Adicionando uma linha ao csv"
   ]
  },
  {
   "cell_type": "code",
   "execution_count": 9,
   "id": "aafb3d6c",
   "metadata": {},
   "outputs": [],
   "source": [
    "nova_linha = ['Fernanda', '27', 'Banco de Dados']\n",
    "\n",
    "# Abrimos o arquivo em modo leitura ('a') que permite adicionar uma nova informação sem substituir/apagar os dados salvos anteriormente, com encoding e newline=''\n",
    "with open(\"alunos.csv\", \"a\", newline='', encoding=\"utf-8\") as arquivo:\n",
    "    escritor = csv.writer(arquivo)\n",
    "    escritor.writerow(nova_linha)"
   ]
  },
  {
   "cell_type": "markdown",
   "id": "4a46b8c4",
   "metadata": {},
   "source": [
    "###  Importante!\n",
    "\n",
    "Os modos de gravação ('w') e ('a') são diferentes.\n",
    "- ('w') WRITE - Cria o arquivo se não existir. Se o arquivo existir, ele substitui TODA a informação presente nele pela nova.\n",
    "- ('a') APPEND - Não cria o arquivo. Apenas adiciona uma nova informação no fim, mantendo as informações anteriores."
   ]
  },
  {
   "cell_type": "markdown",
   "id": "23d0aa5b",
   "metadata": {},
   "source": [
    "# Exemplo Prático"
   ]
  },
  {
   "cell_type": "markdown",
   "id": "6aa2b2ca",
   "metadata": {},
   "source": [
    "## Cadastro de funcionários"
   ]
  },
  {
   "cell_type": "markdown",
   "id": "cda28d80",
   "metadata": {},
   "source": [
    "Neste exemplo criaremos o registro de funcionários de uma empresa.\n"
   ]
  },
  {
   "cell_type": "markdown",
   "id": "ad7276d3",
   "metadata": {},
   "source": [
    "O primeiro passo é criar o arquivo chamado \"funcionarios.csv\". Vamos utilizar a função open() com o nome que desejamos dar ao arquivo e o modo ('w') que permite criar o arquivo. As informações iniciais que iremos escrever no arquivo serão os nomes das colunas(cabeçalho), e os dados de 5 funcionários já existentes."
   ]
  },
  {
   "cell_type": "code",
   "execution_count": 11,
   "id": "60d1f6be",
   "metadata": {},
   "outputs": [],
   "source": [
    "import csv\n",
    "\n",
    "# Lista de listas. A primeira representa o cabeçalho(colunas). Cada uma das outras listas secundárias representam os dados de um funcionário\n",
    "funcionarios = [\n",
    "    [\"nome\", \"departamento\", \"cargo\", \"salario\"],\n",
    "    [\"Ana Silva\", \"Financeiro\", \"Analista\", 4500.00],\n",
    "    [\"Bruno Reis\",\"Tecnologia\", \"Desenvolvedor\", 6200.00],\n",
    "    [\"Clara Lima\",\"Recursos Humanos\", \"Coordenadora\", 5100.00],\n",
    "    [\"Daniel Souza\", \"Tecnologia\", \"Suporte Técnico\", 3700.00],\n",
    "    [\"Elaine Costa\", \"Marketing\", \"Designer\", 4800.00]\n",
    "]\n",
    "\n",
    "# Cria o arquivo no modo ('w')\n",
    "with open('funcionarios.csv', 'w', newline='', encoding='utf-8') as arquivo:\n",
    "    escritor = csv.writer(arquivo)\n",
    "    escritor.writerows(funcionarios) # .writerows() escreve no arquivo todas as linhas de uma vez"
   ]
  },
  {
   "cell_type": "markdown",
   "id": "3ed2be94",
   "metadata": {},
   "source": [
    "Lendo as informações do arquivo"
   ]
  },
  {
   "cell_type": "code",
   "execution_count": 12,
   "id": "f30208c1",
   "metadata": {},
   "outputs": [
    {
     "name": "stdout",
     "output_type": "stream",
     "text": [
      "['nome', 'departamento', 'cargo', 'salario']\n",
      "['Ana Silva', 'Financeiro', 'Analista', '4500.0']\n",
      "['Bruno Reis', 'Tecnologia', 'Desenvolvedor', '6200.0']\n",
      "['Clara Lima', 'Recursos Humanos', 'Coordenadora', '5100.0']\n",
      "['Daniel Souza', 'Tecnologia', 'Suporte Técnico', '3700.0']\n",
      "['Elaine Costa', 'Marketing', 'Designer', '4800.0']\n"
     ]
    }
   ],
   "source": [
    "# Abre o arquivo no modo leitura ('r')\n",
    "with open('funcionarios.csv', 'r', encoding='utf-8') as arquivo:\n",
    "    funcionarios = csv.reader(arquivo)\n",
    "    for i in funcionarios:\n",
    "        print(i)"
   ]
  },
  {
   "cell_type": "markdown",
   "id": "0102e6bd",
   "metadata": {},
   "source": [
    "O próximo passo é pedir ao usuário que informe as informações necessárias para o registro de um novo funcionário. Em seguida organizamos essas informações em uma lista, e utilizando o modo append ('a') junto com a função open(), acrescentamos essa nova linha no final do arquivo. \n",
    "\n",
    "NÃO SE ESQUEÇA de utilizar o parâmetro newline='', isso impedirá que o csv acrescente linhas vazias entre cada registro."
   ]
  },
  {
   "cell_type": "code",
   "execution_count": 14,
   "id": "4e0856b9",
   "metadata": {},
   "outputs": [],
   "source": [
    "nome = input('Nome do funcionário: ')\n",
    "departamento = input('Departamento: ')\n",
    "cargo = input('Cargo: ')\n",
    "salario = input('Salário: ')\n",
    "\n",
    "with open('funcionarios.csv', 'a', newline='', encoding='utf-8') as arquivo:\n",
    "    escritor = csv.writer(arquivo)\n",
    "    escritor.writerow([nome,departamento,cargo,salario])"
   ]
  },
  {
   "cell_type": "markdown",
   "id": "a2598d9c",
   "metadata": {},
   "source": [
    "# Bônus"
   ]
  },
  {
   "cell_type": "markdown",
   "id": "8d3abd83",
   "metadata": {},
   "source": [
    "Com a biblioteca Pandas é possível visualizar o arquivo csv realmente como uma tabela, parecida com excel, além de realizar diversas operações de manipulação e análise de dados. No código abaixo, vemos um exemplo simples de como visualizar o csv de uma maneira melhor."
   ]
  },
  {
   "cell_type": "code",
   "execution_count": 15,
   "id": "886f56a9",
   "metadata": {},
   "outputs": [
    {
     "data": {
      "text/html": [
       "<div>\n",
       "<style scoped>\n",
       "    .dataframe tbody tr th:only-of-type {\n",
       "        vertical-align: middle;\n",
       "    }\n",
       "\n",
       "    .dataframe tbody tr th {\n",
       "        vertical-align: top;\n",
       "    }\n",
       "\n",
       "    .dataframe thead th {\n",
       "        text-align: right;\n",
       "    }\n",
       "</style>\n",
       "<table border=\"1\" class=\"dataframe\">\n",
       "  <thead>\n",
       "    <tr style=\"text-align: right;\">\n",
       "      <th></th>\n",
       "      <th>nome</th>\n",
       "      <th>departamento</th>\n",
       "      <th>cargo</th>\n",
       "      <th>salario</th>\n",
       "    </tr>\n",
       "  </thead>\n",
       "  <tbody>\n",
       "    <tr>\n",
       "      <th>0</th>\n",
       "      <td>Ana Silva</td>\n",
       "      <td>Financeiro</td>\n",
       "      <td>Analista</td>\n",
       "      <td>4500.0</td>\n",
       "    </tr>\n",
       "    <tr>\n",
       "      <th>1</th>\n",
       "      <td>Bruno Reis</td>\n",
       "      <td>Tecnologia</td>\n",
       "      <td>Desenvolvedor</td>\n",
       "      <td>6200.0</td>\n",
       "    </tr>\n",
       "    <tr>\n",
       "      <th>2</th>\n",
       "      <td>Clara Lima</td>\n",
       "      <td>Recursos Humanos</td>\n",
       "      <td>Coordenadora</td>\n",
       "      <td>5100.0</td>\n",
       "    </tr>\n",
       "    <tr>\n",
       "      <th>3</th>\n",
       "      <td>Daniel Souza</td>\n",
       "      <td>Tecnologia</td>\n",
       "      <td>Suporte Técnico</td>\n",
       "      <td>3700.0</td>\n",
       "    </tr>\n",
       "    <tr>\n",
       "      <th>4</th>\n",
       "      <td>Elaine Costa</td>\n",
       "      <td>Marketing</td>\n",
       "      <td>Designer</td>\n",
       "      <td>4800.0</td>\n",
       "    </tr>\n",
       "    <tr>\n",
       "      <th>5</th>\n",
       "      <td>Henrique</td>\n",
       "      <td>agro</td>\n",
       "      <td>senior</td>\n",
       "      <td>200000.0</td>\n",
       "    </tr>\n",
       "    <tr>\n",
       "      <th>6</th>\n",
       "      <td>NaN</td>\n",
       "      <td>NaN</td>\n",
       "      <td>NaN</td>\n",
       "      <td>NaN</td>\n",
       "    </tr>\n",
       "  </tbody>\n",
       "</table>\n",
       "</div>"
      ],
      "text/plain": [
       "           nome      departamento            cargo   salario\n",
       "0     Ana Silva        Financeiro         Analista    4500.0\n",
       "1    Bruno Reis        Tecnologia    Desenvolvedor    6200.0\n",
       "2    Clara Lima  Recursos Humanos     Coordenadora    5100.0\n",
       "3  Daniel Souza        Tecnologia  Suporte Técnico    3700.0\n",
       "4  Elaine Costa         Marketing         Designer    4800.0\n",
       "5      Henrique              agro           senior  200000.0\n",
       "6           NaN               NaN              NaN       NaN"
      ]
     },
     "execution_count": 15,
     "metadata": {},
     "output_type": "execute_result"
    }
   ],
   "source": [
    "import pandas as pd\n",
    "tabela = pd.read_csv('funcionarios.csv')\n",
    "tabela"
   ]
  },
  {
   "cell_type": "code",
   "execution_count": 16,
   "id": "901550c4",
   "metadata": {},
   "outputs": [
    {
     "ename": "FileNotFoundError",
     "evalue": "[Errno 2] No such file or directory: 'Tabela_Clubes.csv'",
     "output_type": "error",
     "traceback": [
      "\u001b[31m---------------------------------------------------------------------------\u001b[39m",
      "\u001b[31mFileNotFoundError\u001b[39m                         Traceback (most recent call last)",
      "\u001b[36mCell\u001b[39m\u001b[36m \u001b[39m\u001b[32mIn[16]\u001b[39m\u001b[32m, line 2\u001b[39m\n\u001b[32m      1\u001b[39m \u001b[38;5;28;01mimport\u001b[39;00m\u001b[38;5;250m \u001b[39m\u001b[34;01mpandas\u001b[39;00m\u001b[38;5;250m \u001b[39m\u001b[38;5;28;01mas\u001b[39;00m\u001b[38;5;250m \u001b[39m\u001b[34;01mpd\u001b[39;00m\n\u001b[32m----> \u001b[39m\u001b[32m2\u001b[39m tabela = \u001b[43mpd\u001b[49m\u001b[43m.\u001b[49m\u001b[43mread_csv\u001b[49m\u001b[43m(\u001b[49m\u001b[33;43m'\u001b[39;49m\u001b[33;43mTabela_Clubes.csv\u001b[39;49m\u001b[33;43m'\u001b[39;49m\u001b[43m,\u001b[49m\u001b[43m \u001b[49m\u001b[43mencoding\u001b[49m\u001b[43m=\u001b[49m\u001b[43m \u001b[49m\u001b[33;43m'\u001b[39;49m\u001b[33;43mutf-8\u001b[39;49m\u001b[33;43m'\u001b[39;49m\u001b[43m,\u001b[49m\u001b[43m \u001b[49m\u001b[43msep\u001b[49m\u001b[43m=\u001b[49m\u001b[33;43m'\u001b[39;49m\u001b[33;43m,\u001b[39;49m\u001b[33;43m'\u001b[39;49m\u001b[43m)\u001b[49m\n\u001b[32m      4\u001b[39m \u001b[38;5;66;03m#tabela.info()\u001b[39;00m\n\u001b[32m      5\u001b[39m colunas_deletadas = [\u001b[33m'\u001b[39m\u001b[33mUnnamed: 13\u001b[39m\u001b[33m'\u001b[39m,\u001b[33m'\u001b[39m\u001b[33mUnnamed: 14\u001b[39m\u001b[33m'\u001b[39m,\u001b[33m'\u001b[39m\u001b[33mUnnamed: 15\u001b[39m\u001b[33m'\u001b[39m,\u001b[33m'\u001b[39m\u001b[33mUnnamed: 16\u001b[39m\u001b[33m'\u001b[39m]\n",
      "\u001b[36mFile \u001b[39m\u001b[32m~\\AppData\\Roaming\\Python\\Python313\\site-packages\\pandas\\io\\parsers\\readers.py:1026\u001b[39m, in \u001b[36mread_csv\u001b[39m\u001b[34m(filepath_or_buffer, sep, delimiter, header, names, index_col, usecols, dtype, engine, converters, true_values, false_values, skipinitialspace, skiprows, skipfooter, nrows, na_values, keep_default_na, na_filter, verbose, skip_blank_lines, parse_dates, infer_datetime_format, keep_date_col, date_parser, date_format, dayfirst, cache_dates, iterator, chunksize, compression, thousands, decimal, lineterminator, quotechar, quoting, doublequote, escapechar, comment, encoding, encoding_errors, dialect, on_bad_lines, delim_whitespace, low_memory, memory_map, float_precision, storage_options, dtype_backend)\u001b[39m\n\u001b[32m   1013\u001b[39m kwds_defaults = _refine_defaults_read(\n\u001b[32m   1014\u001b[39m     dialect,\n\u001b[32m   1015\u001b[39m     delimiter,\n\u001b[32m   (...)\u001b[39m\u001b[32m   1022\u001b[39m     dtype_backend=dtype_backend,\n\u001b[32m   1023\u001b[39m )\n\u001b[32m   1024\u001b[39m kwds.update(kwds_defaults)\n\u001b[32m-> \u001b[39m\u001b[32m1026\u001b[39m \u001b[38;5;28;01mreturn\u001b[39;00m \u001b[43m_read\u001b[49m\u001b[43m(\u001b[49m\u001b[43mfilepath_or_buffer\u001b[49m\u001b[43m,\u001b[49m\u001b[43m \u001b[49m\u001b[43mkwds\u001b[49m\u001b[43m)\u001b[49m\n",
      "\u001b[36mFile \u001b[39m\u001b[32m~\\AppData\\Roaming\\Python\\Python313\\site-packages\\pandas\\io\\parsers\\readers.py:620\u001b[39m, in \u001b[36m_read\u001b[39m\u001b[34m(filepath_or_buffer, kwds)\u001b[39m\n\u001b[32m    617\u001b[39m _validate_names(kwds.get(\u001b[33m\"\u001b[39m\u001b[33mnames\u001b[39m\u001b[33m\"\u001b[39m, \u001b[38;5;28;01mNone\u001b[39;00m))\n\u001b[32m    619\u001b[39m \u001b[38;5;66;03m# Create the parser.\u001b[39;00m\n\u001b[32m--> \u001b[39m\u001b[32m620\u001b[39m parser = \u001b[43mTextFileReader\u001b[49m\u001b[43m(\u001b[49m\u001b[43mfilepath_or_buffer\u001b[49m\u001b[43m,\u001b[49m\u001b[43m \u001b[49m\u001b[43m*\u001b[49m\u001b[43m*\u001b[49m\u001b[43mkwds\u001b[49m\u001b[43m)\u001b[49m\n\u001b[32m    622\u001b[39m \u001b[38;5;28;01mif\u001b[39;00m chunksize \u001b[38;5;129;01mor\u001b[39;00m iterator:\n\u001b[32m    623\u001b[39m     \u001b[38;5;28;01mreturn\u001b[39;00m parser\n",
      "\u001b[36mFile \u001b[39m\u001b[32m~\\AppData\\Roaming\\Python\\Python313\\site-packages\\pandas\\io\\parsers\\readers.py:1620\u001b[39m, in \u001b[36mTextFileReader.__init__\u001b[39m\u001b[34m(self, f, engine, **kwds)\u001b[39m\n\u001b[32m   1617\u001b[39m     \u001b[38;5;28mself\u001b[39m.options[\u001b[33m\"\u001b[39m\u001b[33mhas_index_names\u001b[39m\u001b[33m\"\u001b[39m] = kwds[\u001b[33m\"\u001b[39m\u001b[33mhas_index_names\u001b[39m\u001b[33m\"\u001b[39m]\n\u001b[32m   1619\u001b[39m \u001b[38;5;28mself\u001b[39m.handles: IOHandles | \u001b[38;5;28;01mNone\u001b[39;00m = \u001b[38;5;28;01mNone\u001b[39;00m\n\u001b[32m-> \u001b[39m\u001b[32m1620\u001b[39m \u001b[38;5;28mself\u001b[39m._engine = \u001b[38;5;28;43mself\u001b[39;49m\u001b[43m.\u001b[49m\u001b[43m_make_engine\u001b[49m\u001b[43m(\u001b[49m\u001b[43mf\u001b[49m\u001b[43m,\u001b[49m\u001b[43m \u001b[49m\u001b[38;5;28;43mself\u001b[39;49m\u001b[43m.\u001b[49m\u001b[43mengine\u001b[49m\u001b[43m)\u001b[49m\n",
      "\u001b[36mFile \u001b[39m\u001b[32m~\\AppData\\Roaming\\Python\\Python313\\site-packages\\pandas\\io\\parsers\\readers.py:1880\u001b[39m, in \u001b[36mTextFileReader._make_engine\u001b[39m\u001b[34m(self, f, engine)\u001b[39m\n\u001b[32m   1878\u001b[39m     \u001b[38;5;28;01mif\u001b[39;00m \u001b[33m\"\u001b[39m\u001b[33mb\u001b[39m\u001b[33m\"\u001b[39m \u001b[38;5;129;01mnot\u001b[39;00m \u001b[38;5;129;01min\u001b[39;00m mode:\n\u001b[32m   1879\u001b[39m         mode += \u001b[33m\"\u001b[39m\u001b[33mb\u001b[39m\u001b[33m\"\u001b[39m\n\u001b[32m-> \u001b[39m\u001b[32m1880\u001b[39m \u001b[38;5;28mself\u001b[39m.handles = \u001b[43mget_handle\u001b[49m\u001b[43m(\u001b[49m\n\u001b[32m   1881\u001b[39m \u001b[43m    \u001b[49m\u001b[43mf\u001b[49m\u001b[43m,\u001b[49m\n\u001b[32m   1882\u001b[39m \u001b[43m    \u001b[49m\u001b[43mmode\u001b[49m\u001b[43m,\u001b[49m\n\u001b[32m   1883\u001b[39m \u001b[43m    \u001b[49m\u001b[43mencoding\u001b[49m\u001b[43m=\u001b[49m\u001b[38;5;28;43mself\u001b[39;49m\u001b[43m.\u001b[49m\u001b[43moptions\u001b[49m\u001b[43m.\u001b[49m\u001b[43mget\u001b[49m\u001b[43m(\u001b[49m\u001b[33;43m\"\u001b[39;49m\u001b[33;43mencoding\u001b[39;49m\u001b[33;43m\"\u001b[39;49m\u001b[43m,\u001b[49m\u001b[43m \u001b[49m\u001b[38;5;28;43;01mNone\u001b[39;49;00m\u001b[43m)\u001b[49m\u001b[43m,\u001b[49m\n\u001b[32m   1884\u001b[39m \u001b[43m    \u001b[49m\u001b[43mcompression\u001b[49m\u001b[43m=\u001b[49m\u001b[38;5;28;43mself\u001b[39;49m\u001b[43m.\u001b[49m\u001b[43moptions\u001b[49m\u001b[43m.\u001b[49m\u001b[43mget\u001b[49m\u001b[43m(\u001b[49m\u001b[33;43m\"\u001b[39;49m\u001b[33;43mcompression\u001b[39;49m\u001b[33;43m\"\u001b[39;49m\u001b[43m,\u001b[49m\u001b[43m \u001b[49m\u001b[38;5;28;43;01mNone\u001b[39;49;00m\u001b[43m)\u001b[49m\u001b[43m,\u001b[49m\n\u001b[32m   1885\u001b[39m \u001b[43m    \u001b[49m\u001b[43mmemory_map\u001b[49m\u001b[43m=\u001b[49m\u001b[38;5;28;43mself\u001b[39;49m\u001b[43m.\u001b[49m\u001b[43moptions\u001b[49m\u001b[43m.\u001b[49m\u001b[43mget\u001b[49m\u001b[43m(\u001b[49m\u001b[33;43m\"\u001b[39;49m\u001b[33;43mmemory_map\u001b[39;49m\u001b[33;43m\"\u001b[39;49m\u001b[43m,\u001b[49m\u001b[43m \u001b[49m\u001b[38;5;28;43;01mFalse\u001b[39;49;00m\u001b[43m)\u001b[49m\u001b[43m,\u001b[49m\n\u001b[32m   1886\u001b[39m \u001b[43m    \u001b[49m\u001b[43mis_text\u001b[49m\u001b[43m=\u001b[49m\u001b[43mis_text\u001b[49m\u001b[43m,\u001b[49m\n\u001b[32m   1887\u001b[39m \u001b[43m    \u001b[49m\u001b[43merrors\u001b[49m\u001b[43m=\u001b[49m\u001b[38;5;28;43mself\u001b[39;49m\u001b[43m.\u001b[49m\u001b[43moptions\u001b[49m\u001b[43m.\u001b[49m\u001b[43mget\u001b[49m\u001b[43m(\u001b[49m\u001b[33;43m\"\u001b[39;49m\u001b[33;43mencoding_errors\u001b[39;49m\u001b[33;43m\"\u001b[39;49m\u001b[43m,\u001b[49m\u001b[43m \u001b[49m\u001b[33;43m\"\u001b[39;49m\u001b[33;43mstrict\u001b[39;49m\u001b[33;43m\"\u001b[39;49m\u001b[43m)\u001b[49m\u001b[43m,\u001b[49m\n\u001b[32m   1888\u001b[39m \u001b[43m    \u001b[49m\u001b[43mstorage_options\u001b[49m\u001b[43m=\u001b[49m\u001b[38;5;28;43mself\u001b[39;49m\u001b[43m.\u001b[49m\u001b[43moptions\u001b[49m\u001b[43m.\u001b[49m\u001b[43mget\u001b[49m\u001b[43m(\u001b[49m\u001b[33;43m\"\u001b[39;49m\u001b[33;43mstorage_options\u001b[39;49m\u001b[33;43m\"\u001b[39;49m\u001b[43m,\u001b[49m\u001b[43m \u001b[49m\u001b[38;5;28;43;01mNone\u001b[39;49;00m\u001b[43m)\u001b[49m\u001b[43m,\u001b[49m\n\u001b[32m   1889\u001b[39m \u001b[43m\u001b[49m\u001b[43m)\u001b[49m\n\u001b[32m   1890\u001b[39m \u001b[38;5;28;01massert\u001b[39;00m \u001b[38;5;28mself\u001b[39m.handles \u001b[38;5;129;01mis\u001b[39;00m \u001b[38;5;129;01mnot\u001b[39;00m \u001b[38;5;28;01mNone\u001b[39;00m\n\u001b[32m   1891\u001b[39m f = \u001b[38;5;28mself\u001b[39m.handles.handle\n",
      "\u001b[36mFile \u001b[39m\u001b[32m~\\AppData\\Roaming\\Python\\Python313\\site-packages\\pandas\\io\\common.py:882\u001b[39m, in \u001b[36mget_handle\u001b[39m\u001b[34m(path_or_buf, mode, encoding, compression, memory_map, is_text, errors, storage_options)\u001b[39m\n\u001b[32m    873\u001b[39m         handle = \u001b[38;5;28mopen\u001b[39m(\n\u001b[32m    874\u001b[39m             handle,\n\u001b[32m    875\u001b[39m             ioargs.mode,\n\u001b[32m   (...)\u001b[39m\u001b[32m    878\u001b[39m             newline=\u001b[33m\"\u001b[39m\u001b[33m\"\u001b[39m,\n\u001b[32m    879\u001b[39m         )\n\u001b[32m    880\u001b[39m     \u001b[38;5;28;01melse\u001b[39;00m:\n\u001b[32m    881\u001b[39m         \u001b[38;5;66;03m# Binary mode\u001b[39;00m\n\u001b[32m--> \u001b[39m\u001b[32m882\u001b[39m         handle = \u001b[38;5;28;43mopen\u001b[39;49m\u001b[43m(\u001b[49m\u001b[43mhandle\u001b[49m\u001b[43m,\u001b[49m\u001b[43m \u001b[49m\u001b[43mioargs\u001b[49m\u001b[43m.\u001b[49m\u001b[43mmode\u001b[49m\u001b[43m)\u001b[49m\n\u001b[32m    883\u001b[39m     handles.append(handle)\n\u001b[32m    885\u001b[39m \u001b[38;5;66;03m# Convert BytesIO or file objects passed with an encoding\u001b[39;00m\n",
      "\u001b[31mFileNotFoundError\u001b[39m: [Errno 2] No such file or directory: 'Tabela_Clubes.csv'"
     ]
    }
   ],
   "source": [
    "import pandas as pd\n",
    "tabela = pd.read_csv('Tabela_Clubes.csv', encoding= 'utf-8', sep=',')\n",
    "\n",
    "#tabela.info()\n",
    "colunas_deletadas = ['Unnamed: 13','Unnamed: 14','Unnamed: 15','Unnamed: 16']\n",
    "tabela.drop(axis=1, columns= colunas_deletadas, inplace= True )\n",
    "display(tabela)"
   ]
  }
 ],
 "metadata": {
  "kernelspec": {
   "display_name": "Python 3",
   "language": "python",
   "name": "python3"
  },
  "language_info": {
   "codemirror_mode": {
    "name": "ipython",
    "version": 3
   },
   "file_extension": ".py",
   "mimetype": "text/x-python",
   "name": "python",
   "nbconvert_exporter": "python",
   "pygments_lexer": "ipython3",
   "version": "3.13.2"
  }
 },
 "nbformat": 4,
 "nbformat_minor": 5
}
