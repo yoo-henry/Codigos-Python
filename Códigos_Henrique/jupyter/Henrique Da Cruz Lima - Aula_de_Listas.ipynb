{
  "nbformat": 4,
  "nbformat_minor": 0,
  "metadata": {
    "colab": {
      "provenance": []
    },
    "kernelspec": {
      "name": "python3",
      "display_name": "Python 3"
    },
    "language_info": {
      "name": "python"
    }
  },
  "cells": [
    {
      "cell_type": "markdown",
      "source": [
        "### Listas em Python\n",
        "\n",
        "**O Que é uma Lista?**\n",
        "\n",
        "Imagine uma caixa organizadora onde você pode guardar vários itens diferentes, como números, textos, ou até outras caixas. Em Python, uma lista é exatamente isso: uma estrutura que armazena múltiplos valores em uma única variável, mantendo uma ordem específica.\n",
        "\n",
        "\n",
        "\n",
        "\n",
        "\n",
        "\n"
      ],
      "metadata": {
        "id": "3-10nKaJicf0"
      }
    },
    {
      "cell_type": "markdown",
      "source": [
        "\n",
        "**Como Criar uma Lista?**\n",
        "\n",
        "\n",
        "Usamos colchetes [ ] para definir uma lista, separando os elementos por vírgulas.\n"
      ],
      "metadata": {
        "id": "-e0BHYLcyoS6"
      }
    },
    {
      "cell_type": "code",
      "source": [
        "# Exemplo de lista com diferentes tipos de dados\n",
        "minha_lista = [10, \"Maçã\", True, 3.14, [1, 2, 3]]\n",
        "\n",
        "#comando para alterar data e hora\n",
        "#pool.ntp.br\n"
      ],
      "metadata": {
        "id": "TAY8QREafsnK"
      },
      "execution_count": null,
      "outputs": []
    },
    {
      "cell_type": "markdown",
      "source": [
        "\n",
        "**Aqui, minha_lista contém:**\n",
        "\n",
        "Um número inteiro (10),\n",
        "\n",
        "\n",
        "Uma string (\"Maçã\"),\n",
        "\n",
        "\n",
        "Um valor booleano (True),\n",
        "\n",
        "\n",
        "Um número decimal (3.14),\n",
        "\n",
        "\n",
        "E até outra lista ([1, 2, 3]).\n",
        "\n",
        "\n",
        "Isso mostra que listas são flexíveis e podem misturar tipos de dados.\n"
      ],
      "metadata": {
        "id": "GOersz6ay-F6"
      }
    },
    {
      "cell_type": "markdown",
      "source": [
        "## Principais Características das Listas\n",
        "1. Ordenadas → Têm Índices\n",
        "Cada elemento na lista tem uma posição fixa (índice), começando em 0."
      ],
      "metadata": {
        "id": "TtmN6kkmgkjy"
      }
    },
    {
      "cell_type": "code",
      "source": [
        "frutas = [\"maçã\", \"banana\", \"laranja\"]\n",
        "# Índices:    0        1         2"
      ],
      "metadata": {
        "id": "N-z3ky4wvY0L"
      },
      "execution_count": null,
      "outputs": []
    },
    {
      "cell_type": "markdown",
      "source": [
        "frutas[0] retorna \"maçã\"\n",
        "\n",
        "frutas[2] retorna \"laranja\"\n",
        "\n",
        "Se tentar acessar um índice que não existe (ex: frutas[3]), Python retorna um erro."
      ],
      "metadata": {
        "id": "qNQGV5Afv6Za"
      }
    },
    {
      "cell_type": "markdown",
      "source": [
        "2. Mutáveis → Podem Ser Alteradas\n",
        "Diferente de strings (que são imutáveis), listas permitem modificações:"
      ],
      "metadata": {
        "id": "TkSoiWXnzpvi"
      }
    },
    {
      "cell_type": "code",
      "source": [
        "frutas[1] = \"morango\"  # Substitui \"banana\" por \"morango\"\n",
        "print(frutas)  # Saída: [\"maçã\", \"morango\", \"laranja\"]"
      ],
      "metadata": {
        "id": "yeYYns1qzxQS"
      },
      "execution_count": null,
      "outputs": []
    },
    {
      "cell_type": "markdown",
      "source": [
        "3. Aceitam Elementos Repetidos"
      ],
      "metadata": {
        "id": "kTenMvFR0zAZ"
      }
    },
    {
      "cell_type": "code",
      "source": [
        "numeros = [1, 2, 2, 3, 3, 3]  # Válido!"
      ],
      "metadata": {
        "id": "9C0nHjRC04dh"
      },
      "execution_count": null,
      "outputs": []
    },
    {
      "cell_type": "markdown",
      "source": [
        "## Operações Básicas com Listas\n",
        "\n",
        "**Adicionar Elementos**\n",
        "**.append()** → Adiciona ao final."
      ],
      "metadata": {
        "id": "-IG4Jg1q1bPi"
      }
    },
    {
      "cell_type": "code",
      "source": [
        "frutas.append(\"uva\")  # [\"maçã\", \"morango\", \"laranja\", \"uva\"]"
      ],
      "metadata": {
        "id": "2pgANdkV2Uyy"
      },
      "execution_count": null,
      "outputs": []
    },
    {
      "cell_type": "markdown",
      "source": [
        "**insert()** → **Insere em uma posição específica.**"
      ],
      "metadata": {
        "id": "BxsnXd7425D6"
      }
    },
    {
      "cell_type": "code",
      "source": [
        "frutas.insert(1, \"abacaxi\")  # [\"maçã\", \"abacaxi\", \"morango\", \"laranja\", \"uva\"]\n",
        "print(frutas)"
      ],
      "metadata": {
        "id": "ARNHZW0f3G5B"
      },
      "execution_count": null,
      "outputs": []
    },
    {
      "cell_type": "markdown",
      "source": [
        "Remover Elementos\n",
        "\n",
        "**remove()** → Remove o primeiro valor igual ao especificado."
      ],
      "metadata": {
        "id": "qPBblqwB4tfx"
      }
    },
    {
      "cell_type": "code",
      "source": [
        "frutas.remove(\"morango\")  # Remove \"morango\""
      ],
      "metadata": {
        "id": "vWRSJFnR5InJ"
      },
      "execution_count": null,
      "outputs": []
    },
    {
      "cell_type": "markdown",
      "source": [
        "**pop() →** Remove e retorna um elemento pelo índice (se não passar índice, remove o último)."
      ],
      "metadata": {
        "id": "qjVP3pkQ5E8p"
      }
    },
    {
      "cell_type": "code",
      "source": [
        "ultima_fruta = frutas.pop()  # Remove \"uva\" e retorna seu valor"
      ],
      "metadata": {
        "id": "8HhvK9xA5YRB"
      },
      "execution_count": null,
      "outputs": []
    },
    {
      "cell_type": "markdown",
      "source": [
        "## Outras Operações Úteis"
      ],
      "metadata": {
        "id": "6MfonG2p5hWJ"
      }
    },
    {
      "cell_type": "markdown",
      "source": [
        "**len() →** Retorna o tamanho da lista."
      ],
      "metadata": {
        "id": "cqu9hv0G58rB"
      }
    },
    {
      "cell_type": "code",
      "source": [
        "print(len(frutas))  # Saída: 3"
      ],
      "metadata": {
        "id": "d90rR_rY6Fl4"
      },
      "execution_count": null,
      "outputs": []
    },
    {
      "cell_type": "markdown",
      "source": [
        "**sort() →** Ordena a lista (para números ou textos)."
      ],
      "metadata": {
        "id": "z5zOelWs6LcJ"
      }
    },
    {
      "cell_type": "code",
      "source": [
        "numeros = [3, 1, 4, 2]\n",
        "numeros.sort()  # [1, 2, 3, 4]"
      ],
      "metadata": {
        "id": "CVCn5AwvAeeq"
      },
      "execution_count": null,
      "outputs": []
    },
    {
      "cell_type": "markdown",
      "source": [
        "\n",
        "## Fatiamento (Slicing) → Pegando Partes da Lista\n",
        "\n",
        "Podemos extrair \"pedaços\" da lista usando **[início:fim:passo]:**"
      ],
      "metadata": {
        "id": "51Ob5GXaBhj6"
      }
    },
    {
      "cell_type": "code",
      "source": [
        "letras = [\"a\", \"b\", \"c\", \"d\", \"e\"]\n",
        "print(letras[1:4])    # [\"b\", \"c\", \"d\"] (índices 1 a 3)\n",
        "print(letras[::2])    # [\"a\", \"c\", \"e\"] (pula de 2 em 2)\n",
        "print(letras[::-1])   # [\"e\", \"d\", \"c\", \"b\", \"a\"] (inverte)"
      ],
      "metadata": {
        "id": "LqUmdwA8Cwuj"
      },
      "execution_count": null,
      "outputs": []
    },
    {
      "cell_type": "markdown",
      "source": [
        "### Exercicio de Listas\n"
      ],
      "metadata": {
        "id": "JLohvFDkmDMM"
      }
    },
    {
      "cell_type": "markdown",
      "source": [
        "Nossa Lista de Números.\n"
      ],
      "metadata": {
        "id": "DJfQTR3mmi6M"
      }
    },
    {
      "cell_type": "code",
      "source": [
        "lista_numeros = [1, 2, 3, 4, 5]\n",
        "print(lista_numeros)"
      ],
      "metadata": {
        "id": "tKIOWp3jmLrU"
      },
      "execution_count": null,
      "outputs": []
    },
    {
      "cell_type": "markdown",
      "source": [
        "Etapa 1: Escreva uma linha de código que solicita ao usuário digitar um número inteiro, esse número deve substituir o elemento do meio da lista."
      ],
      "metadata": {
        "id": "z4vyZPxfm1V8"
      }
    },
    {
      "cell_type": "code",
      "source": [],
      "metadata": {
        "id": "vFxyMxy8nHJV"
      },
      "execution_count": null,
      "outputs": []
    },
    {
      "cell_type": "markdown",
      "source": [
        "Etapa 2: escreva uma linha de código que remova o último elemento da lista.\n"
      ],
      "metadata": {
        "id": "sNbDzVJCzYl6"
      }
    },
    {
      "cell_type": "code",
      "source": [],
      "metadata": {
        "id": "OtpGjhMFzjxh"
      },
      "execution_count": null,
      "outputs": []
    },
    {
      "cell_type": "markdown",
      "source": [
        "Etapa 3: escreva uma linha de código que imprima o comprimento da lista atual\n"
      ],
      "metadata": {
        "id": "cfCy91RZz2kD"
      }
    },
    {
      "cell_type": "code",
      "source": [],
      "metadata": {
        "id": "ZSIUpj7Uz4HD"
      },
      "execution_count": null,
      "outputs": []
    },
    {
      "cell_type": "markdown",
      "source": [
        "# Exercício de Listas Beatles:\n",
        "\n",
        "Os Beatles foram um dos grupos de música mais populares dos anos 60, e a banda mais vendida na história. Algumas pessoas consideram que eles são o ato mais influente da era do rock. Na verdade, eles foram incluídos na compilação da revista *Time* das 100 pessoas mais influentes do século XX.\n",
        "\n",
        "A banda passou por muitas mudanças na formação, culminando em 1962 com a formação de John Lennon, Paul McCartney, George Harrison e Richard Starkey (mais conhecido como Ringo Starr).\n",
        "\n",
        "Escreva um programa que reflita essas mudanças e permita praticar com o conceito de listas. Sua tarefa:"
      ],
      "metadata": {
        "id": "Q_EeSrKl0LFt"
      }
    },
    {
      "cell_type": "markdown",
      "source": [
        "Etapa 1: Criar uma lista vazia chamada beatles;\n"
      ],
      "metadata": {
        "id": "zEQa-a0I1Fmy"
      }
    },
    {
      "cell_type": "code",
      "source": [
        "beatles = []\n",
        "print(beatles)"
      ],
      "metadata": {
        "colab": {
          "base_uri": "https://localhost:8080/"
        },
        "id": "bETJ56YE1J0R",
        "outputId": "862f5572-8808-4b45-98af-e9fd94fc13fd"
      },
      "execution_count": null,
      "outputs": [
        {
          "output_type": "stream",
          "name": "stdout",
          "text": [
            "[]\n"
          ]
        }
      ]
    },
    {
      "cell_type": "markdown",
      "source": [
        "Etapa 2: use o método append() para adicionar os seguintes membros da banda à lista: John Lennon, Paul McCartney e George Harrison;"
      ],
      "metadata": {
        "id": "C47eNgmw1KoZ"
      }
    },
    {
      "cell_type": "code",
      "source": [],
      "metadata": {
        "id": "95yysbR51Opy"
      },
      "execution_count": null,
      "outputs": []
    },
    {
      "cell_type": "markdown",
      "source": [
        "Etapa 3: Use o loop for e o método append() para solicitar que o usuário adicione os seguintes membros da banda à lista: Stu Sutcliffe e Pete Best;"
      ],
      "metadata": {
        "id": "lv62tChs1jw8"
      }
    },
    {
      "cell_type": "code",
      "source": [],
      "metadata": {
        "id": "2IDuD6uJ1nRE"
      },
      "execution_count": null,
      "outputs": []
    },
    {
      "cell_type": "markdown",
      "source": [
        "Etapa 4: Use a instrução del para remover Stu Sutcliffe e Pete Best da lista;"
      ],
      "metadata": {
        "id": "V8Zm8zFl1y91"
      }
    },
    {
      "cell_type": "code",
      "source": [],
      "metadata": {
        "id": "18fO8IUq13tl"
      },
      "execution_count": null,
      "outputs": []
    },
    {
      "cell_type": "markdown",
      "source": [
        "Etapa 5: Use o método insert() para adicionar Ringo Starr ao início da lista.\n"
      ],
      "metadata": {
        "id": "LHdtrWdy19Ge"
      }
    },
    {
      "cell_type": "code",
      "source": [],
      "metadata": {
        "id": "OZdMmuqq1-dG"
      },
      "execution_count": null,
      "outputs": []
    }
  ]
}