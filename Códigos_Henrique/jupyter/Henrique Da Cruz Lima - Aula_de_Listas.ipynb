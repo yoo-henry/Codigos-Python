{
  "cells": [
    {
      "cell_type": "markdown",
      "metadata": {
        "id": "3-10nKaJicf0"
      },
      "source": [
        "### Listas em Python\n",
        "\n",
        "**O Que é uma Lista?**\n",
        "\n",
        "Imagine uma caixa organizadora onde você pode guardar vários itens diferentes, como números, textos, ou até outras caixas. Em Python, uma lista é exatamente isso: uma estrutura que armazena múltiplos valores em uma única variável, mantendo uma ordem específica.\n",
        "\n",
        "\n",
        "\n",
        "\n",
        "\n",
        "\n"
      ]
    },
    {
      "cell_type": "markdown",
      "metadata": {
        "id": "-e0BHYLcyoS6"
      },
      "source": [
        "\n",
        "**Como Criar uma Lista?**\n",
        "\n",
        "\n",
        "Usamos colchetes [ ] para definir uma lista, separando os elementos por vírgulas.\n"
      ]
    },
    {
      "cell_type": "code",
      "execution_count": 1,
      "metadata": {
        "id": "TAY8QREafsnK"
      },
      "outputs": [],
      "source": [
        "# Exemplo de lista com diferentes tipos de dados\n",
        "minha_lista = [10, \"Maçã\", True, 3.14, [1, 2, 3]]\n",
        "\n",
        "#comando para alterar data e hora\n",
        "#pool.ntp.br\n"
      ]
    },
    {
      "cell_type": "markdown",
      "metadata": {
        "id": "GOersz6ay-F6"
      },
      "source": [
        "\n",
        "**Aqui, minha_lista contém:**\n",
        "\n",
        "Um número inteiro (10),\n",
        "\n",
        "\n",
        "Uma string (\"Maçã\"),\n",
        "\n",
        "\n",
        "Um valor booleano (True),\n",
        "\n",
        "\n",
        "Um número decimal (3.14),\n",
        "\n",
        "\n",
        "E até outra lista ([1, 2, 3]).\n",
        "\n",
        "\n",
        "Isso mostra que listas são flexíveis e podem misturar tipos de dados.\n"
      ]
    },
    {
      "cell_type": "markdown",
      "metadata": {
        "id": "TtmN6kkmgkjy"
      },
      "source": [
        "## Principais Características das Listas\n",
        "1. Ordenadas → Têm Índices\n",
        "Cada elemento na lista tem uma posição fixa (índice), começando em 0."
      ]
    },
    {
      "cell_type": "code",
      "execution_count": null,
      "metadata": {
        "id": "N-z3ky4wvY0L"
      },
      "outputs": [
        {
          "name": "stdout",
          "output_type": "stream",
          "text": [
            "laranja\n"
          ]
        }
      ],
      "source": [
        "frutas = [\"maçã\", \"banana\", \"laranja\"]\n",
        "# Índices:    0        1         2\n",
        "print(frutas[2])"
      ]
    },
    {
      "cell_type": "markdown",
      "metadata": {
        "id": "qNQGV5Afv6Za"
      },
      "source": [
        "frutas[0] retorna \"maçã\"\n",
        "\n",
        "frutas[2] retorna \"laranja\"\n",
        "\n",
        "Se tentar acessar um índice que não existe (ex: frutas[3]), Python retorna um erro."
      ]
    },
    {
      "cell_type": "markdown",
      "metadata": {
        "id": "TkSoiWXnzpvi"
      },
      "source": [
        "2. Mutáveis → Podem Ser Alteradas\n",
        "Diferente de strings (que são imutáveis), listas permitem modificações:"
      ]
    },
    {
      "cell_type": "code",
      "execution_count": 7,
      "metadata": {
        "id": "yeYYns1qzxQS"
      },
      "outputs": [
        {
          "name": "stdout",
          "output_type": "stream",
          "text": [
            "['maçã', 'morango', 'laranja']\n"
          ]
        }
      ],
      "source": [
        "frutas[1] = \"morango\"  # Substitui \"banana\" por \"morango\"\n",
        "print(frutas)  # Saída: [\"maçã\", \"morango\", \"laranja\"]"
      ]
    },
    {
      "cell_type": "markdown",
      "metadata": {
        "id": "kTenMvFR0zAZ"
      },
      "source": [
        "3. Aceitam Elementos Repetidos"
      ]
    },
    {
      "cell_type": "code",
      "execution_count": 15,
      "metadata": {
        "id": "9C0nHjRC04dh"
      },
      "outputs": [],
      "source": [
        "numeros = [1, 2, 2, 3, 3, 3]  # Válido!"
      ]
    },
    {
      "cell_type": "markdown",
      "metadata": {
        "id": "-IG4Jg1q1bPi"
      },
      "source": [
        "## Operações Básicas com Listas\n",
        "\n",
        "**Adicionar Elementos**\n",
        "**.append()** → Adiciona ao final."
      ]
    },
    {
      "cell_type": "code",
      "execution_count": null,
      "metadata": {
        "id": "2pgANdkV2Uyy"
      },
      "outputs": [
        {
          "name": "stdout",
          "output_type": "stream",
          "text": [
            "['maçã', 'laranja', 'uva', 'uva', 'uva', 'uva', 'uva', 'uva', 'uva', 'uva', 'uva', 'uva', 'uva', 'uva', 'uva', 'uva', 'uva', 'uva', 'uva', 'uva', 'uva', 'uva', 'uva', 'uva', 'uva', 'uva', 'uva', 'uva', 'uva', 'uva', 'uva', 'uva', 'uva', 'uva', 'uva', 'uva', 'uva', 'uva', 'uva', 'uva', 'uva', 'uva', 'uva', 'uva', 'uva', 'uva', 'uva', 'uva', 'uva', 'uva', 'uva', 'uva', 'uva']\n"
          ]
        }
      ],
      "source": [
        "frutas.append(\"uva\")  # [\"maçã\", \"morango\", \"laranja\", \"uva\"]\n",
        "print(frutas)"
      ]
    },
    {
      "cell_type": "markdown",
      "metadata": {
        "id": "BxsnXd7425D6"
      },
      "source": [
        "**insert()** → **Insere em uma posição específica.**"
      ]
    },
    {
      "cell_type": "code",
      "execution_count": 166,
      "metadata": {
        "id": "ARNHZW0f3G5B"
      },
      "outputs": [
        {
          "name": "stdout",
          "output_type": "stream",
          "text": [
            "['maçã', 'abacaxi', 'abacaxi', 'abacaxi', 'laranja', 'uva', 'uva', 'uva', 'uva', 'uva']\n"
          ]
        }
      ],
      "source": [
        "frutas.insert(1, \"abacaxi\")  # [\"maçã\", \"abacaxi\", \"morango\", \"laranja\", \"uva\"]\n",
        "print(frutas)\n"
      ]
    },
    {
      "cell_type": "markdown",
      "metadata": {
        "id": "qPBblqwB4tfx"
      },
      "source": [
        "Remover Elementos\n",
        "\n",
        "**remove()** → Remove o primeiro valor igual ao especificado."
      ]
    },
    {
      "cell_type": "code",
      "execution_count": 172,
      "metadata": {
        "id": "vWRSJFnR5InJ"
      },
      "outputs": [
        {
          "name": "stdout",
          "output_type": "stream",
          "text": [
            "['maçã', 'abacaxi', 'laranja', 'uva']\n"
          ]
        }
      ],
      "source": [
        "frutas.remove(\"abacaxi\")  # Remove \"morango\"\n",
        "print(frutas)"
      ]
    },
    {
      "cell_type": "markdown",
      "metadata": {
        "id": "qjVP3pkQ5E8p"
      },
      "source": [
        "**pop() →** Remove e retorna um elemento pelo índice (se não passar índice, remove o último)."
      ]
    },
    {
      "cell_type": "code",
      "execution_count": 18,
      "metadata": {
        "id": "8HhvK9xA5YRB"
      },
      "outputs": [],
      "source": [
        "ultima_fruta = frutas.pop()  # Remove \"uva\" e retorna seu valor"
      ]
    },
    {
      "cell_type": "markdown",
      "metadata": {
        "id": "6MfonG2p5hWJ"
      },
      "source": [
        "## Outras Operações Úteis"
      ]
    },
    {
      "cell_type": "markdown",
      "metadata": {
        "id": "cqu9hv0G58rB"
      },
      "source": [
        "**len() →** Retorna o tamanho da lista."
      ]
    },
    {
      "cell_type": "code",
      "execution_count": 174,
      "metadata": {
        "id": "d90rR_rY6Fl4"
      },
      "outputs": [
        {
          "name": "stdout",
          "output_type": "stream",
          "text": [
            "4\n"
          ]
        }
      ],
      "source": [
        "print(len(frutas))  # Saída: 3"
      ]
    },
    {
      "cell_type": "markdown",
      "metadata": {
        "id": "z5zOelWs6LcJ"
      },
      "source": [
        "**sort() →** Ordena a lista (para números ou textos)."
      ]
    },
    {
      "cell_type": "code",
      "execution_count": 176,
      "metadata": {
        "id": "CVCn5AwvAeeq"
      },
      "outputs": [
        {
          "name": "stdout",
          "output_type": "stream",
          "text": [
            "[1, 2, 3, 4]\n"
          ]
        }
      ],
      "source": [
        "numeros = [3, 1, 4, 2]\n",
        "numeros.sort()  # [1, 2, 3, 4]\n",
        "print(numeros)"
      ]
    },
    {
      "cell_type": "markdown",
      "metadata": {
        "id": "51Ob5GXaBhj6"
      },
      "source": [
        "\n",
        "## Fatiamento (Slicing) → Pegando Partes da Lista\n",
        "\n",
        "Podemos extrair \"pedaços\" da lista usando **[início:fim:passo]:**"
      ]
    },
    {
      "cell_type": "code",
      "execution_count": 193,
      "metadata": {
        "id": "LqUmdwA8Cwuj"
      },
      "outputs": [
        {
          "name": "stdout",
          "output_type": "stream",
          "text": [
            "['b', 'c', 'd']\n",
            "['a', 'c', 'e']\n",
            "['e', 'd', 'c', 'b', 'a']\n"
          ]
        }
      ],
      "source": [
        "letras = [\"a\", \"b\", \"c\", \"d\", \"e\"]\n",
        "print(letras[1:4])    # [\"b\", \"c\", \"d\"] (índices 1 a 3)\n",
        "print(letras[::2])    # [\"a\", \"c\", \"e\"] (pula de 2 em 2)\n",
        "print(letras[::-1])   # [\"e\", \"d\", \"c\", \"b\", \"a\"] (inverte)"
      ]
    },
    {
      "cell_type": "markdown",
      "metadata": {
        "id": "JLohvFDkmDMM"
      },
      "source": [
        "### Exercicio de Listas\n"
      ]
    },
    {
      "cell_type": "markdown",
      "metadata": {
        "id": "DJfQTR3mmi6M"
      },
      "source": [
        "Nossa Lista de Números.\n"
      ]
    },
    {
      "cell_type": "code",
      "execution_count": 191,
      "metadata": {
        "id": "tKIOWp3jmLrU"
      },
      "outputs": [
        {
          "name": "stdout",
          "output_type": "stream",
          "text": [
            "[1, 2, 3, 4, 5]\n"
          ]
        }
      ],
      "source": [
        "lista_numeros = [1, 2, 3, 4, 5]\n",
        "print(lista_numeros)"
      ]
    },
    {
      "cell_type": "markdown",
      "metadata": {
        "id": "z4vyZPxfm1V8"
      },
      "source": [
        "Etapa 1: Escreva uma linha de código que solicita ao usuário digitar um número inteiro, esse número deve substituir o elemento do meio da lista."
      ]
    },
    {
      "cell_type": "code",
      "execution_count": 195,
      "metadata": {
        "id": "vFxyMxy8nHJV"
      },
      "outputs": [
        {
          "name": "stdout",
          "output_type": "stream",
          "text": [
            "[1, 2, '3', 4, 5]\n"
          ]
        }
      ],
      "source": [
        "lista = input(\"Digite um número\")\n",
        "lista_numeros[2] = lista\n",
        "print(lista_numeros) "
      ]
    },
    {
      "cell_type": "markdown",
      "metadata": {
        "id": "sNbDzVJCzYl6"
      },
      "source": [
        "Etapa 2: escreva uma linha de código que remova o último elemento da lista.\n"
      ]
    },
    {
      "cell_type": "code",
      "execution_count": 196,
      "metadata": {
        "id": "OtpGjhMFzjxh"
      },
      "outputs": [
        {
          "name": "stdout",
          "output_type": "stream",
          "text": [
            "[1, 2, '3', 4]\n"
          ]
        }
      ],
      "source": [
        "lista_numeros.pop()\n",
        "print(lista_numeros)"
      ]
    },
    {
      "cell_type": "markdown",
      "metadata": {
        "id": "cfCy91RZz2kD"
      },
      "source": [
        "Etapa 3: escreva uma linha de código que imprima o comprimento da lista atual\n"
      ]
    },
    {
      "cell_type": "code",
      "execution_count": 197,
      "metadata": {
        "id": "ZSIUpj7Uz4HD"
      },
      "outputs": [
        {
          "name": "stdout",
          "output_type": "stream",
          "text": [
            "[1, 2, '3', 4]\n"
          ]
        }
      ],
      "source": [
        "print(lista_numeros)"
      ]
    },
    {
      "cell_type": "markdown",
      "metadata": {
        "id": "Q_EeSrKl0LFt"
      },
      "source": [
        "# Exercício de Listas Beatles:\n",
        "\n",
        "Os Beatles foram um dos grupos de música mais populares dos anos 60, e a banda mais vendida na história. Algumas pessoas consideram que eles são o ato mais influente da era do rock. Na verdade, eles foram incluídos na compilação da revista *Time* das 100 pessoas mais influentes do século XX.\n",
        "\n",
        "A banda passou por muitas mudanças na formação, culminando em 1962 com a formação de John Lennon, Paul McCartney, George Harrison e Richard Starkey (mais conhecido como Ringo Starr).\n",
        "\n",
        "Escreva um programa que reflita essas mudanças e permita praticar com o conceito de listas. Sua tarefa:"
      ]
    },
    {
      "cell_type": "markdown",
      "metadata": {
        "id": "zEQa-a0I1Fmy"
      },
      "source": [
        "Etapa 1: Criar uma lista vazia chamada beatles;\n"
      ]
    },
    {
      "cell_type": "code",
      "execution_count": 1,
      "metadata": {
        "colab": {
          "base_uri": "https://localhost:8080/"
        },
        "id": "bETJ56YE1J0R",
        "outputId": "862f5572-8808-4b45-98af-e9fd94fc13fd"
      },
      "outputs": [
        {
          "name": "stdout",
          "output_type": "stream",
          "text": [
            "[]\n"
          ]
        }
      ],
      "source": [
        "beatles = []\n",
        "print(beatles)"
      ]
    },
    {
      "cell_type": "markdown",
      "metadata": {
        "id": "C47eNgmw1KoZ"
      },
      "source": [
        "Etapa 2: use o método append() para adicionar os seguintes membros da banda à lista: John Lennon, Paul McCartney e George Harrison;"
      ]
    },
    {
      "cell_type": "code",
      "execution_count": 2,
      "metadata": {
        "id": "95yysbR51Opy"
      },
      "outputs": [],
      "source": [
        "beatles.append(\"John Lennon\")\n",
        "beatles.append(\"Paul McCartney\")\n",
        "beatles.append(\"George Harrison\")"
      ]
    },
    {
      "cell_type": "markdown",
      "metadata": {
        "id": "lv62tChs1jw8"
      },
      "source": [
        "Etapa 3: Use o loop for e o método append() para solicitar que o usuário adicione os seguintes membros da banda à lista: Stu Sutcliffe e Pete Best;"
      ]
    },
    {
      "cell_type": "code",
      "execution_count": 3,
      "metadata": {
        "id": "2IDuD6uJ1nRE"
      },
      "outputs": [
        {
          "name": "stdout",
          "output_type": "stream",
          "text": [
            "['John Lennon', 'Paul McCartney', 'George Harrison', 'pedro', 'breno']\n"
          ]
        }
      ],
      "source": [
        "for item in range(2):\n",
        "    membro = input(\"Me fala quem você quer adicionar\")\n",
        "    beatles.append(membro)\n",
        "\n",
        "print(beatles)"
      ]
    },
    {
      "cell_type": "markdown",
      "metadata": {
        "id": "V8Zm8zFl1y91"
      },
      "source": [
        "Etapa 4: Use a instrução del para remover Stu Sutcliffe e Pete Best da lista;"
      ]
    },
    {
      "cell_type": "code",
      "execution_count": 5,
      "metadata": {
        "id": "18fO8IUq13tl"
      },
      "outputs": [],
      "source": [
        "del beatles[-1]"
      ]
    },
    {
      "cell_type": "markdown",
      "metadata": {
        "id": "LHdtrWdy19Ge"
      },
      "source": [
        "Etapa 5: Use o método insert() para adicionar Ringo Starr ao início da lista.\n"
      ]
    },
    {
      "cell_type": "code",
      "execution_count": 6,
      "metadata": {
        "id": "OZdMmuqq1-dG"
      },
      "outputs": [
        {
          "name": "stdout",
          "output_type": "stream",
          "text": [
            "['Ringo Starr', 'John Lennon', 'Paul McCartney', 'George Harrison']\n"
          ]
        }
      ],
      "source": [
        "beatles.insert(0,\"Ringo Starr\")\n",
        "print(beatles)"
      ]
    }
  ],
  "metadata": {
    "colab": {
      "provenance": []
    },
    "kernelspec": {
      "display_name": "Python 3",
      "name": "python3"
    },
    "language_info": {
      "codemirror_mode": {
        "name": "ipython",
        "version": 3
      },
      "file_extension": ".py",
      "mimetype": "text/x-python",
      "name": "python",
      "nbconvert_exporter": "python",
      "pygments_lexer": "ipython3",
      "version": "3.13.2"
    }
  },
  "nbformat": 4,
  "nbformat_minor": 0
}
