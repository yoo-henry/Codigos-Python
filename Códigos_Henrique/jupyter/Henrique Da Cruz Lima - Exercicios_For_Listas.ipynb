{
 "cells": [
  {
   "cell_type": "markdown",
   "id": "d2b6c514",
   "metadata": {},
   "source": [
    "### 🚀 Exercícios Melhorados de Python: Listas e Loops for"
   ]
  },
  {
   "cell_type": "markdown",
   "id": "44a3875e",
   "metadata": {},
   "source": [
    "### 🔍 1. Filtro de Filmes por Gênero 🎬\n",
    "\n",
    "Desafio:\n",
    "\n",
    "Crie um loop for para percorrer a lista de filmes e de gêneros e depois mostre na tela apenas os filmes de ação."
   ]
  },
  {
   "cell_type": "code",
   "execution_count": 2,
   "id": "365515ab",
   "metadata": {},
   "outputs": [
    {
     "name": "stdout",
     "output_type": "stream",
     "text": [
      "O Poderoso Chefão, não é filme de ação.\n",
      "Vingadores : Ultimato, é um filme de ação.\n",
      "Toy Story, não é filme de ação.\n",
      "Velozes e Furiosos, é um filme de ação.\n",
      "Missão Impossível, é um filme de ação.\n",
      "De Volta para o Futuro, não é filme de ação.\n",
      "Zodiaco, não é filme de ação.\n"
     ]
    }
   ],
   "source": [
    "filmes = [\"O Poderoso Chefão\", \"Vingadores : Ultimato\", \"Toy Story\", \"Velozes e Furiosos\", \"Missão Impossível\", \"De Volta para o Futuro\",\"Zodiaco\"]\n",
    "generos = [\"Drama\", \"Ação\", \"Animação\", \"Ação\",\"Ação\", \"Aventura\", \"Suspense\",]\n",
    "\n",
    "### Seu código aqui\n",
    "for item in range(len(filmes)):\n",
    "    if generos[item] == \"Ação\":\n",
    "        print(f\"{filmes[item]}, é um filme de ação.\")\n",
    "    else:\n",
    "        print(f\"{filmes[item]}, não é filme de ação.\")\n",
    "\n"
   ]
  },
  {
   "cell_type": "markdown",
   "id": "4def914a",
   "metadata": {},
   "source": [
    "Agora crie um código que verfique a nota de cada filme e recomende para o usuário os filmes com notas superioes a 7.0"
   ]
  },
  {
   "cell_type": "code",
   "execution_count": 13,
   "id": "52470059",
   "metadata": {},
   "outputs": [
    {
     "name": "stdout",
     "output_type": "stream",
     "text": [
      "O Poderoso Chefão, nota: 9.0, recomendo ele tenho uma nota boa.\n",
      "Vingadores : Ultimato, nota: 9.5, recomendo ele tenho uma nota boa.\n",
      "Toy Story, nota: 10, recomendo ele tenho uma nota boa.\n",
      "Velozes e Furiosos, nota: 5.2, não recomendo pois a nota é baixa.\n",
      "Missão Impossível, nota: 8.0, recomendo ele tenho uma nota boa.\n",
      "De Volta para o Futuro, nota: 10, recomendo ele tenho uma nota boa.\n",
      "Zodiaco, nota: 9.8, recomendo ele tenho uma nota boa.\n",
      "Thunderbolts, nota: 5.5, não recomendo pois a nota é baixa.\n"
     ]
    }
   ],
   "source": [
    "filmes = [\"O Poderoso Chefão\", \"Vingadores : Ultimato\", \"Toy Story\", \"Velozes e Furiosos\", \"Missão Impossível\", \"De Volta para o Futuro\", \"Zodiaco\", \"Thunderbolts\"]\n",
    "generos = [\"Drama\", \"Ação\", \"Animação\", \"Ação\",\"Ação\", \"Aventura\", \"Suspense\"]\n",
    "notas_filmes = [9.0, 9.5, 10, 5.2, 8.0, 10, 9.8, 5.5]\n",
    "\n",
    "### Seu código aqui\n",
    "for item in range(len(filmes)):\n",
    "    if notas_filmes[item] >= 7:\n",
    "        print(f\"{filmes[item]}, nota: {notas_filmes[item]}, recomendo ele tenho uma nota boa.\")\n",
    "    else:\n",
    "        print(f\"{filmes[item]}, nota: {notas_filmes[item]}, não recomendo pois a nota é baixa.\")\n"
   ]
  },
  {
   "cell_type": "markdown",
   "id": "8c04f1b7",
   "metadata": {},
   "source": [
    "### 📊 2. Análise de Dados de Redes Sociais 📱"
   ]
  },
  {
   "cell_type": "markdown",
   "id": "939eeec4",
   "metadata": {},
   "source": [
    "Você tem uma lista de likes por postagem:\n",
    "\n",
    "Desafio:\n",
    "\n",
    "Calcule a média de likes.\n",
    "\n",
    "\n",
    "Identifique quantos posts estão acima da média e print:\n",
    "\n",
    "\n",
    "\"📈 [X] posts bombaram (+ que [média] likes)\""
   ]
  },
  {
   "cell_type": "code",
   "execution_count": 24,
   "id": "5b380686",
   "metadata": {},
   "outputs": [
    {
     "name": "stdout",
     "output_type": "stream",
     "text": [
      "Virginia, teve 120 likes, então foi abaixo da média que era 164.0.\n",
      "Carlinhos Maia, teve 245 likes, então ela foi acima da acima da média que era 164.0.\n",
      "Deolane, teve 89 likes, então foi abaixo da média que era 164.0.\n",
      "Poze, teve 310 likes, então ela foi acima da acima da média que era 164.0.\n",
      "Matheus Costa, teve 42 likes, então foi abaixo da média que era 164.0.\n",
      "Zé Felipe, teve 178 likes, então ela foi acima da acima da média que era 164.0.\n"
     ]
    }
   ],
   "source": [
    "## Nome dos influencers\n",
    "influencers = [\"Virginia\", \"Carlinhos Maia\", \"Deolane\", \"Poze\", \"Matheus Costa\",\"Zé Felipe\"]\n",
    "### likes por post\n",
    "like_posts = [120, 245, 89, 310, 42, 178] \n",
    "## Calcula o total de likes da lista\n",
    "total_likes = sum(like_posts)\n",
    "\n",
    "media = total_likes / 6\n",
    "# Sua vez calcule á media de likes\n",
    "for item in range(len(influencers)):\n",
    "\n",
    "    if like_posts[item] >= media:\n",
    "        print(f\"{influencers[item]}, teve {like_posts[item]} likes, então ela foi acima da acima da média que era {media}.\")\n",
    "    else:\n",
    "        print(f\"{influencers[item]}, teve {like_posts[item]} likes, então foi abaixo da média que era {media}.\")\n",
    "# Depois veja qual influencer teve likes acima da média\n",
    "\n",
    "\n",
    "\n"
   ]
  },
  {
   "cell_type": "markdown",
   "id": "d7cfa84f",
   "metadata": {},
   "source": [
    "### 🎯 Bônus Extra: Desafio dos Emojis Aleatórios\n",
    "\n",
    "✅ Gere uma lista de 10 emojis aleatórios (use [\"🐍\", \"🔥\", \"🎮\", \"👾\", \"🚀\"]) e:\n",
    "\n",
    "✅ Conte quantas vezes \"🔥\" aparece.\n",
    "\n",
    "\n",
    "✅ Substitua \"🎮\" por \"💻\".\n",
    "\n",
    "\n",
    "✅ Print a lista final."
   ]
  },
  {
   "cell_type": "code",
   "execution_count": 25,
   "id": "28ab2513",
   "metadata": {},
   "outputs": [
    {
     "name": "stdout",
     "output_type": "stream",
     "text": [
      "4\n",
      "['🐍', '🔥', '💻', '👾', '🚀', '🔥', '🔥', '🔥', '🔥🔥🚀🔥🔥🔥🚀🔥🔥🔥🔥👾🔥🔥🔥🔥🔥🚀🔥🔥🔥🔥🔥🔥🔥👾🔥🔥🔥🔥🔥🔥🔥🚀🔥🔥🔥', '🔥🔥']\n"
     ]
    }
   ],
   "source": [
    "lista_emojis = [\"🐍\", \"🔥\", \"🎮\", \"👾\", \"🚀\",\"🔥\",\"🔥\",\"🔥\",\"🔥🔥🚀🔥🔥🔥🚀🔥🔥🔥🔥👾🔥🔥🔥🔥🔥🚀🔥🔥🔥🔥🔥🔥🔥👾🔥🔥🔥🔥🔥🔥🔥🚀🔥🔥🔥\",\"🔥🔥\"]\n",
    "\n",
    "\n",
    "print(lista_emojis.count(\"🔥\"))\n",
    "\n",
    "lista_emojis[2] = \"💻\"\n",
    "\n",
    "print(lista_emojis)"
   ]
  },
  {
   "cell_type": "code",
   "execution_count": null,
   "id": "00597024",
   "metadata": {},
   "outputs": [],
   "source": []
  }
 ],
 "metadata": {
  "kernelspec": {
   "display_name": "Python 3",
   "language": "python",
   "name": "python3"
  },
  "language_info": {
   "codemirror_mode": {
    "name": "ipython",
    "version": 3
   },
   "file_extension": ".py",
   "mimetype": "text/x-python",
   "name": "python",
   "nbconvert_exporter": "python",
   "pygments_lexer": "ipython3",
   "version": "3.13.2"
  }
 },
 "nbformat": 4,
 "nbformat_minor": 5
}
