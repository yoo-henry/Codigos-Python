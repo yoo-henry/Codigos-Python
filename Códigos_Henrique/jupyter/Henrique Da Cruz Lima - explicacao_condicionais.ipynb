{
  "cells": [
    {
      "cell_type": "markdown",
      "id": "c1e8c244",
      "metadata": {
        "id": "c1e8c244"
      },
      "source": [
        "## Condições Simples"
      ]
    },
    {
      "cell_type": "markdown",
      "id": "4113085d",
      "metadata": {
        "id": "4113085d"
      },
      "source": [
        "Para condições em Python utilizamos a palvra *if* que siginifa 'se' em Português.<br>\n",
        "Com a condição, você consegue executar um conjunto de códigos APENAS se o resultado da expressão lógica for 'Verdadeiro' (True)"
      ]
    },
    {
      "cell_type": "markdown",
      "id": "6d9e53fe",
      "metadata": {
        "id": "6d9e53fe"
      },
      "source": [
        "### Por que usar condicionais?"
      ]
    },
    {
      "cell_type": "markdown",
      "id": "9cbcbbb9",
      "metadata": {
        "id": "9cbcbbb9"
      },
      "source": [
        "Muitas vezes, o programa precisa tomar decisões, como:\n",
        "\n",
        "- Se a pessoa for maior de idade, pode entrar.\n",
        "\n",
        "- Se a média for maior que 7, o aluno está aprovado.\n",
        "\n",
        "- Se a senha estiver certa, o acesso é liberado.\n",
        "\n",
        "Para isso, usamos as estruturas condicionais."
      ]
    },
    {
      "cell_type": "markdown",
      "id": "10b1bef1",
      "metadata": {
        "id": "10b1bef1"
      },
      "source": [
        "- if (expressão lógica):"
      ]
    },
    {
      "cell_type": "code",
      "execution_count": null,
      "id": "9d47fb4f",
      "metadata": {
        "id": "9d47fb4f",
        "outputId": "23dc72d0-cde8-4b22-9b48-0a0a5cd4c049"
      },
      "outputs": [],
      "source": [
        "idade = int(input('Qual é a sua idade?'))\n",
        "if idade >= 18:\n",
        "    print('Você é maior de idade')\n"
      ]
    },
    {
      "cell_type": "markdown",
      "id": "ede5b8e5",
      "metadata": {
        "id": "ede5b8e5"
      },
      "source": [
        "Caso a condição *if* não seja 'VERDADEIRA' ela não irá rodar os códigos relacionados a ela.<br>\n",
        "Neste caso, o python não saberá o que fazer, a menos que você coloque uma condição final *else*, que signica em Português \"Senão\" ou \"Caso contrário."
      ]
    },
    {
      "cell_type": "code",
      "execution_count": 1,
      "id": "92329848",
      "metadata": {
        "id": "92329848",
        "outputId": "7607fa68-3dc0-4f93-8f61-72fba29a6a50"
      },
      "outputs": [
        {
          "name": "stdout",
          "output_type": "stream",
          "text": [
            "aproveita a vida\n"
          ]
        }
      ],
      "source": [
        "idade = int(input('Qual é a sua idade?'))\n",
        "if idade >= 18:\n",
        "    print('já ta na hora de trabalhar')\n",
        "else:\n",
        "    print('aproveita a vida')"
      ]
    },
    {
      "cell_type": "markdown",
      "id": "3b7db6c2",
      "metadata": {
        "id": "3b7db6c2"
      },
      "source": [
        "No código acima, a mensagem \"Maior de idade\" será exibida na tela APENAS SE idade foir maior ou igual a 18. CASO CONTRÁRIO, a mensagem \"Menor de idade\" aparecerá."
      ]
    },
    {
      "cell_type": "markdown",
      "id": "5810c386",
      "metadata": {
        "id": "5810c386"
      },
      "source": [
        "## Mais de uma condição:"
      ]
    },
    {
      "cell_type": "markdown",
      "id": "1d1d122c",
      "metadata": {
        "id": "1d1d122c"
      },
      "source": [
        "if = Se isso acontecer, faça isso.\n",
        "\n",
        "elif = Senão, se acontecer outra coisa, faça aquilo.\n",
        "\n",
        "else = Senão, faça isso aqui."
      ]
    },
    {
      "cell_type": "code",
      "execution_count": null,
      "id": "9b5ceec4",
      "metadata": {
        "id": "9b5ceec4",
        "outputId": "0568a49a-1035-41dd-8802-caeddd859411"
      },
      "outputs": [
        {
          "name": "stdout",
          "output_type": "stream",
          "text": [
            "Menor de idade\n"
          ]
        }
      ],
      "source": [
        "    idade = int(input('Qual é a sua idade?'))\n",
        "    if idade >= 19:\n",
        "        print('Maior de idade')\n",
        "    elif idade == 18:\n",
        "        print('Parabéns você acabou de atingir a maior idade. Já pode ser preso.')\n",
        "    else:\n",
        "        print('Menor de idade')"
      ]
    },
    {
      "cell_type": "markdown",
      "id": "c1373a71",
      "metadata": {
        "id": "c1373a71"
      },
      "source": [
        "## 💡 Importante"
      ]
    },
    {
      "cell_type": "markdown",
      "id": "553ac6c5",
      "metadata": {
        "id": "553ac6c5"
      },
      "source": [
        " Recuo (indentação)<br>\n",
        "O Python usa a indentação (espaços à frente da linha) para saber o que faz parte do if, elif ou else."
      ]
    },
    {
      "cell_type": "code",
      "execution_count": null,
      "id": "37e58680",
      "metadata": {
        "id": "37e58680",
        "outputId": "f58c1302-27b0-4d5c-c7af-1bbfad756cb2"
      },
      "outputs": [
        {
          "name": "stdout",
          "output_type": "stream",
          "text": [
            "Esta linha está dentro do if\n",
            "Esta linha está fora\n"
          ]
        }
      ],
      "source": [
        "if True:\n",
        "    print(\"Esta linha está dentro do if\")\n",
        "\n",
        "print(\"Esta linha está fora\")"
      ]
    },
    {
      "cell_type": "markdown",
      "id": "18b3ea73",
      "metadata": {
        "id": "18b3ea73"
      },
      "source": [
        "## Condições Aninhadas"
      ]
    },
    {
      "cell_type": "code",
      "execution_count": null,
      "id": "c914c63f",
      "metadata": {
        "id": "c914c63f"
      },
      "outputs": [],
      "source": [
        "idade = int(input('Qual é a sua idade?'))\n",
        "\n",
        "if idade >= 18:\n",
        "\n",
        "    cnh = int(input('Você tem habilitação? (1 para sim/ 2 para não)'))\n",
        "    if cnh == 1:\n",
        "        print('Pode dirigir')\n",
        "    else:\n",
        "        print('Não pode dirigir')\n",
        "\n",
        "else:\n",
        "    print('Não pode dirigir')"
      ]
    }
  ],
  "metadata": {
    "colab": {
      "provenance": []
    },
    "kernelspec": {
      "display_name": "Python 3",
      "language": "python",
      "name": "python3"
    },
    "language_info": {
      "codemirror_mode": {
        "name": "ipython",
        "version": 3
      },
      "file_extension": ".py",
      "mimetype": "text/x-python",
      "name": "python",
      "nbconvert_exporter": "python",
      "pygments_lexer": "ipython3",
      "version": "3.13.2"
    }
  },
  "nbformat": 4,
  "nbformat_minor": 5
}
