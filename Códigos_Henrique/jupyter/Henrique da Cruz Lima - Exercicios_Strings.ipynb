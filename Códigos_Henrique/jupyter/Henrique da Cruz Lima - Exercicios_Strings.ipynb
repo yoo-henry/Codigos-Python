{
 "cells": [
  {
   "cell_type": "markdown",
   "id": "8e7a3a05",
   "metadata": {},
   "source": [
    "### 📝 Lista de Exercícios: Strings + Condicionais\n",
    "\n",
    "# Métodos\n",
    "\n",
    "| Método | Descrição | Exemplo | Resultado |\n",
    "|--------|-----------|---------|-----------|\n",
    "| **`upper()`** | Converte toda a string para maiúsculas | `\"python\".upper()` | `'PYTHON'` |\n",
    "| **`lower()`** | Converte toda a string para minúsculas | `\"PYTHON\".lower()` | `'python'` |\n",
    "| **`capitalize()`** | Primeira letra maiúscula, resto minúsculas | `\"python\".capitalize()` | `'Python'` |\n",
    "| **`title()`** | Primeira letra de cada palavra maiúscula | `\"hello world\".title()` | `'Hello World'` |\n",
    "| **`strip()`** | Remove espaços em branco no início e fim | `\"  hello  \".strip()` | `'hello'` |\n",
    "| **`lstrip()`** | Remove espaços apenas no início | `\"  hello  \".lstrip()` | `'hello  '` |\n",
    "| **`rstrip()`** | Remove espaços apenas no final | `\"  hello  \".rstrip()` | `'  hello'` |\n",
    "| **`replace(old, new)`** | Substitui parte da string | `\"hello\".replace(\"l\", \"x\")` | `'hexxo'` |\n",
    "| **`split(sep)`** | Divide a string em uma lista | `\"a,b,c\".split(\",\")` | `['a', 'b', 'c']` |\n",
    "| **`join(iterable)`** | Junta elementos com a string como separador | `\",\".join(['a','b','c'])` | `'a,b,c'` |\n",
    "| **`find(sub)`** | Retorna índice da primeira ocorrência | `\"hello\".find(\"l\")` | `2` |\n",
    "| **`rfind(sub)`** | Retorna índice da última ocorrência | `\"hello\".rfind(\"l\")` | `3` |\n",
    "| **`index(sub)`** | Como find(), mas levanta erro se não encontrar | `\"hello\".index(\"l\")` | `2` |\n",
    "| **`count(sub)`** | Conta ocorrências de substring | `\"hello\".count(\"l\")` | `2` |\n",
    "| **`startswith(prefix)`** | Verifica se começa com prefixo | `\"hello\".startswith(\"he\")` | `True` |\n",
    "| **`endswith(suffix)`** | Verifica se termina com sufixo | `\"hello\".endswith(\"lo\")` | `True` |\n",
    "| **`isalpha()`** | Verifica se todos são caracteres alfabéticos | `\"hello\".isalpha()` | `True` |\n",
    "| **`isdigit()`** | Verifica se todos são dígitos | `\"123\".isdigit()` | `True` |\n",
    "| **`isalnum()`** | Verifica se são alfanuméricos | `\"abc123\".isalnum()` | `True` |\n",
    "| **`isspace()`** | Verifica se são espaços em branco | `\"   \".isspace()` | `True` |\n",
    "| **`islower()`** | Verifica se todas as letras são minúsculas | `\"hello\".islower()` | `True` |\n",
    "| **`isupper()`** | Verifica se todas as letras são maiúsculas | `\"HELLO\".isupper()` | `True` |\n"
   ]
  },
  {
   "cell_type": "markdown",
   "id": "5d1bbbdb",
   "metadata": {},
   "source": [
    "💻 Exercício 1 - Verificador de E-mail Simples\n",
    "\n",
    "Verifique se um e-mail contém o símbolo \"@\" e termina com \".com\""
   ]
  },
  {
   "cell_type": "code",
   "execution_count": 3,
   "id": "681b656c",
   "metadata": {},
   "outputs": [
    {
     "name": "stdout",
     "output_type": "stream",
     "text": [
      "Email valido\n"
     ]
    }
   ],
   "source": [
    "email = input(\"Digite seu e-mail: \")\n",
    "# Complete o código aqui\n",
    "\n",
    "if \"@\" in email and email.endswith(\".com\"):\n",
    "    print(\"Email valido\")\n",
    "else:\n",
    "    print(\"Email invalido\")"
   ]
  },
  {
   "cell_type": "markdown",
   "id": "5579e0b0",
   "metadata": {},
   "source": [
    "🔤 Exercício 2 - Maiúscula ou Minúscula?\n",
    "\n",
    "Peça uma letra e diga se ela é maiúscula ou minúscula."
   ]
  },
  {
   "cell_type": "code",
   "execution_count": 4,
   "id": "eba3ca5a",
   "metadata": {},
   "outputs": [
    {
     "name": "stdout",
     "output_type": "stream",
     "text": [
      "Letra minuscula\n"
     ]
    }
   ],
   "source": [
    "letra = input(\"Digite uma letra: \")\n",
    "\n",
    "if letra.isupper():\n",
    "    print(\"Letra maiuscula\")\n",
    "else:\n",
    "    print(\"Letra minuscula\")"
   ]
  },
  {
   "cell_type": "markdown",
   "id": "943c69eb",
   "metadata": {},
   "source": [
    "🥷 Exercício 3 - Verificador de Senha Forte\n",
    "\n",
    "Peça para o usuário criar uma senha e verifique se a senha criada é forte.\n",
    "\n",
    "\n",
    "Uma senha é forte se:\n",
    "\n",
    "- Tem pelo menos 8 caracteres\n",
    "\n",
    "- Contém pelo menos um número\n",
    "\n",
    "- Contém pelo menos uma letra maiúscula"
   ]
  },
  {
   "cell_type": "code",
   "execution_count": 18,
   "id": "01e44abe",
   "metadata": {},
   "outputs": [
    {
     "name": "stdout",
     "output_type": "stream",
     "text": [
      "Senha valida\n"
     ]
    }
   ],
   "source": [
    "senha = input(\"Digite uma senha: \")\n",
    "tamanho = len(senha)\n",
    "cond1 = 0\n",
    "cond2 = 1\n",
    "cond3 = 1\n",
    "\n",
    "if tamanho >= 8:\n",
    "    cond1 = 1\n",
    "\n",
    "if senha.isalpha():\n",
    "    cond = 0\n",
    "\n",
    "if senha.islower():\n",
    "    cond = 0\n",
    "\n",
    "if cond1 == 1 and cond2 == 1 and cond3 == 1:\n",
    "    print(\"Senha valida\")\n",
    "else:\n",
    "    print(\"Senha incorreta\")"
   ]
  },
  {
   "cell_type": "markdown",
   "id": "f1ced8d1",
   "metadata": {},
   "source": [
    "🧾 Exercício 4 - Inicial do Nome\n",
    "\n",
    "Peça o nome completo e diga se a primeira letra é vogal ou consoante."
   ]
  },
  {
   "cell_type": "code",
   "execution_count": 1,
   "id": "a64c050f",
   "metadata": {},
   "outputs": [
    {
     "name": "stdout",
     "output_type": "stream",
     "text": [
      "Primeira Letra é consoante\n"
     ]
    }
   ],
   "source": [
    "nome_completo = input(\"Digite seu nome completo: \")\n",
    "\n",
    "if \"aeiouAEIOU\" in nome_completo[1]:\n",
    "    print(\"Primeira letra é vogal\")\n",
    "else:\n",
    "    print(\"Primeira Letra é consoante\")"
   ]
  },
  {
   "cell_type": "markdown",
   "id": "6d862740",
   "metadata": {},
   "source": [
    "😒 Exercício 5 - Comparador de Strings\n",
    "\n",
    "Peça duas palavras e diga se são iguais ou diferentes."
   ]
  },
  {
   "cell_type": "code",
   "execution_count": 12,
   "id": "314aec0a",
   "metadata": {},
   "outputs": [
    {
     "name": "stdout",
     "output_type": "stream",
     "text": [
      "Palavras diferentes\n"
     ]
    }
   ],
   "source": [
    "palavra1 = input(\"Digite a primeira palavra: \")\n",
    "palavra2 = input(\"Digte a segunda palavra\")\n",
    "\n",
    "if palavra1 == palavra2:\n",
    "    print(\"Palavras iguais\")\n",
    "else:\n",
    "    print(\"Palavras diferentes\")"
   ]
  },
  {
   "cell_type": "markdown",
   "id": "0563de29",
   "metadata": {},
   "source": [
    "🏟️ Exercício 6 - Verificador de CEP\n",
    "\n",
    "Um CEP válido deve ter exatamente 8 dígitos numéricos."
   ]
  },
  {
   "cell_type": "code",
   "execution_count": null,
   "id": "d3b541d0",
   "metadata": {},
   "outputs": [
    {
     "name": "stdout",
     "output_type": "stream",
     "text": [
      "Cep invalido\n"
     ]
    }
   ],
   "source": [
    "cep = input(\"Digite seu cep\")\n",
    "tamanho = len(cep)\n",
    "\n",
    "if tamanho > 7 and tamanho < 9:\n",
    "    print(\"Cep valido\")\n",
    "else:\n",
    "    print(\"Cep invalido\")"
   ]
  },
  {
   "cell_type": "markdown",
   "id": "e6162561",
   "metadata": {},
   "source": [
    "🧾 Exercício 7 - Iniciais Iguais\n",
    "\n",
    "Peça duas palavras e verifique se começam com a mesma letra.\n"
   ]
  },
  {
   "cell_type": "code",
   "execution_count": 3,
   "id": "b49ac0b0",
   "metadata": {},
   "outputs": [
    {
     "name": "stdout",
     "output_type": "stream",
     "text": [
      "A primeira letra dessas palavras são iguais\n"
     ]
    }
   ],
   "source": [
    "palavra1 = input(\"Digite a primeira palavra: \")\n",
    "palavra2 = input(\"Digte a segunda palavra\")\n",
    "\n",
    "if palavra1[1] == palavra2[1]:\n",
    "    print(\"A primeira letra dessas palavras são iguais\")"
   ]
  },
  {
   "cell_type": "markdown",
   "id": "42ec22e4",
   "metadata": {},
   "source": [
    "🔤 Exercício 8 - Termina com Vogal\n",
    "\n",
    "Peça uma palavra ao usuário e diga se termina com vogal."
   ]
  },
  {
   "cell_type": "code",
   "execution_count": 5,
   "id": "015ea656",
   "metadata": {},
   "outputs": [
    {
     "name": "stdout",
     "output_type": "stream",
     "text": [
      "Essa palavra termina com consoante\n"
     ]
    }
   ],
   "source": [
    "palavra = input(\"Digite uma palavra com 5 letras: \")\n",
    "\n",
    "if palavra[4] == \"A\" or palavra[4] == \"E\" or palavra[4] == \"I\" or palavra[4] == \"O\" or palavra[4] == \"U\" or palavra[4] == \"a\" or palavra[4] == \"e\" or palavra[4] == \"i\" or palavra[4] == \"o\" or palavra[4] == \"u\":\n",
    "    print(\"Essa palavra termina com vogal\")\n",
    "else:\n",
    "    print(\"Essa palavra termina com consoante\")"
   ]
  },
  {
   "cell_type": "markdown",
   "id": "b1ed319e",
   "metadata": {},
   "source": [
    "🤖 Exercício 9 - Verificador de CPF Simples\n",
    "\n",
    "Verifique se um CPF tem 11 dígitos numéricos."
   ]
  },
  {
   "cell_type": "code",
   "execution_count": 2,
   "id": "26966137",
   "metadata": {},
   "outputs": [
    {
     "name": "stdout",
     "output_type": "stream",
     "text": [
      "CPF Válido\n"
     ]
    }
   ],
   "source": [
    "cpf = input(\"Digite seu cpf: \")\n",
    "tamanho = len(cpf)\n",
    "\n",
    "if tamanho == 11 and cpf.isalnum():\n",
    "    print(\"CPF Válido\")\n",
    "else:\n",
    "    print(\"CPF Inválido\")"
   ]
  },
  {
   "cell_type": "markdown",
   "id": "cf0c7496",
   "metadata": {},
   "source": [
    "💵 Exercicio 10 - Conversor de Moeda\n",
    "\n",
    "Converta Real para Dólar (use taxa fixa)."
   ]
  },
  {
   "cell_type": "code",
   "execution_count": 6,
   "id": "6e3a618f",
   "metadata": {},
   "outputs": [
    {
     "name": "stdout",
     "output_type": "stream",
     "text": [
      "O seu dinheiro em dólar é: 16.544117647058822\n"
     ]
    }
   ],
   "source": [
    "dolar = 5.44\n",
    "real = float(input(\"Informe a quantidade de dinheiro em real \"))\n",
    "\n",
    "### complete o código\n",
    "\n",
    "total = real / dolar\n",
    "\n",
    "print(f\"O seu dinheiro em dólar é: {total}\")\n",
    "\n",
    "## exemplo 1 real brasileiro, vale 0.18 centavos de dolar."
   ]
  },
  {
   "cell_type": "markdown",
   "id": "91fec7e1",
   "metadata": {},
   "source": [
    "💵 Exercicio 11 - Conversor de Moeda\n",
    "\n",
    "Converta Dólar para Real (use taxa fixa)."
   ]
  },
  {
   "cell_type": "code",
   "execution_count": 7,
   "id": "13b781b5",
   "metadata": {},
   "outputs": [
    {
     "name": "stdout",
     "output_type": "stream",
     "text": [
      "O seu dinheiro em real é: 27.200000000000003\n"
     ]
    }
   ],
   "source": [
    "dolar = 5.44\n",
    "real = float(input(\"Informe a quantidade de dinheiro em real \"))\n",
    "\n",
    "### complete o código\n",
    "\n",
    "total = dolar * real\n",
    "\n",
    "print(f\"O seu dinheiro em real é: {total}\")\n",
    "\n",
    "## exemplo 1 dólar, vale 5.44 reais.\n",
    "\n"
   ]
  }
 ],
 "metadata": {
  "kernelspec": {
   "display_name": "Python 3",
   "language": "python",
   "name": "python3"
  },
  "language_info": {
   "codemirror_mode": {
    "name": "ipython",
    "version": 3
   },
   "file_extension": ".py",
   "mimetype": "text/x-python",
   "name": "python",
   "nbconvert_exporter": "python",
   "pygments_lexer": "ipython3",
   "version": "3.13.2"
  }
 },
 "nbformat": 4,
 "nbformat_minor": 5
}
