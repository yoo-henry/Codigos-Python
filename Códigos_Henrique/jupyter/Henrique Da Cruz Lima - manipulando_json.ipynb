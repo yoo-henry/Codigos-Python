{
 "cells": [
  {
   "cell_type": "markdown",
   "id": "d0eae3c6",
   "metadata": {},
   "source": [
    "# JSON"
   ]
  },
  {
   "cell_type": "markdown",
   "id": "0e00b65b",
   "metadata": {},
   "source": [
    "O JSON  é um formato que armazena informações na forma de código-fonte JavaScript em arquivos com formato texto simples. (JSON é a abreviatura de JavaScript Object Notation, ou Notação de Objetos JavaScript). Não é necessário conhecer a linguagem de programação JavaScript para usar arquivos JSON, porém é útil conhecer esse formato, pois o JSON é usado em diversas aplicações web.\n"
   ]
  },
  {
   "cell_type": "markdown",
   "id": "b25ca624",
   "metadata": {},
   "source": [
    "Ele pode conter valores somente dos seguintes tipos de dados: \n",
    "- strings\n",
    "- inteiros\n",
    "- pontos flutuantes\n",
    "- booleanos\n",
    "- listas\n",
    "- dicionários \n",
    "- NoneType.\n"
   ]
  },
  {
   "cell_type": "markdown",
   "id": "29578667",
   "metadata": {},
   "source": [
    "Aqui está uma tabela com os principais métodos do módulo json do Python:\n",
    "\n",
    "| Método         | Descrição                                                              | Exemplo de uso                 |\n",
    "| -------------- | ---------------------------------------------------------------------- | ------------------------------ |\n",
    "| `json.dump()`  | Converte um objeto Python em JSON e escreve diretamente em um arquivo. | `json.dump(dados, arquivo)`    |\n",
    "| `json.dumps()` | Converte um objeto Python em uma string no formato JSON.               | `json.dumps(dados)`            |\n",
    "| `json.load()`  | Lê um arquivo JSON e o converte em um objeto Python.                   | `dados = json.load(arquivo)`   |\n",
    "| `json.loads()` | Converte uma string em JSON para um objeto Python.                     | `dados = json.loads(json_str)` |\n"
   ]
  },
  {
   "cell_type": "markdown",
   "id": "38b42ad9",
   "metadata": {},
   "source": [
    "# Importando o módulo json"
   ]
  },
  {
   "cell_type": "code",
   "execution_count": 1,
   "id": "00b8a442",
   "metadata": {},
   "outputs": [],
   "source": [
    "import json"
   ]
  },
  {
   "cell_type": "markdown",
   "id": "4455c473",
   "metadata": {},
   "source": [
    "# 1 - Criando um arquivo json do zero"
   ]
  },
  {
   "cell_type": "code",
   "execution_count": 2,
   "id": "9fb86bb3",
   "metadata": {},
   "outputs": [],
   "source": [
    "# Dicionário Python\n",
    "dados = {\n",
    "    \"nome\": \"Maria\",\n",
    "    \"idade\": 30,\n",
    "    \"cursos\": [\"Python\", \"Machine Learning\"]\n",
    "}\n",
    "\n",
    "# Lembrando que o modo 'w' cria o arquivo se ele não existir, se ele existir, reescreve todo seu conteúdo\n",
    "with open(\"dados.json\", \"w\", encoding=\"utf-8\") as arquivo: # enconding=\"utf-8\" garante que acentos e caracteres especiais sejam lidos e gravados como esperado\n",
    "    json.dump(dados, arquivo, indent=4, ensure_ascii=False) # ensure_ascii=False preserva os acentos e caracteres especiais\n"
   ]
  },
  {
   "cell_type": "markdown",
   "id": "aeb5d05c",
   "metadata": {},
   "source": [
    "Repare que a estrutura de um json é semelhante a um dicionário."
   ]
  },
  {
   "cell_type": "markdown",
   "id": "1fc96cef",
   "metadata": {},
   "source": [
    "# 2 - Lendo um arquivo JSON"
   ]
  },
  {
   "cell_type": "code",
   "execution_count": 3,
   "id": "58bef80d",
   "metadata": {},
   "outputs": [
    {
     "name": "stdout",
     "output_type": "stream",
     "text": [
      "{'nome': 'Maria', 'idade': 30, 'cursos': ['Python', 'Machine Learning']}\n",
      "<class 'dict'>\n"
     ]
    }
   ],
   "source": [
    "# O modo 'r' lê um arquivo no formato texto\n",
    "with open(\"dados.json\", \"r\", encoding=\"utf-8\") as arquivo:\n",
    "    dados = json.load(arquivo) # o método .load() converte o conteúdo do arquivo json em um dicionário\n",
    "\n",
    "print(dados)\n",
    "print(type(dados))  # <class 'dict'>\n"
   ]
  },
  {
   "cell_type": "markdown",
   "id": "4ba08035",
   "metadata": {},
   "source": [
    "# 3 - Convertendo um objeto em uma string JSON"
   ]
  },
  {
   "cell_type": "code",
   "execution_count": 4,
   "id": "e4a63b86",
   "metadata": {},
   "outputs": [
    {
     "name": "stdout",
     "output_type": "stream",
     "text": [
      "{\n",
      "  \"nome\": \"João\",\n",
      "  \"idade\": 25,\n",
      "  \"ativo\": true\n",
      "}\n",
      "<class 'str'>\n"
     ]
    }
   ],
   "source": [
    "# Dicionário Python\n",
    "dados = {\n",
    "    \"nome\": \"João\",\n",
    "    \"idade\": 25,\n",
    "    \"ativo\": True\n",
    "}\n",
    "\n",
    "json_str = json.dumps(dados, indent=2, ensure_ascii=False) # Convertendo o dicionário para uma string json\n",
    "print(json_str)\n",
    "print(type(json_str))  # <class 'str'>\n"
   ]
  },
  {
   "cell_type": "markdown",
   "id": "fa3a689a",
   "metadata": {},
   "source": [
    "# 4 - Convertendo uma string JSON em dicionário"
   ]
  },
  {
   "cell_type": "code",
   "execution_count": 5,
   "id": "b126fc9c",
   "metadata": {},
   "outputs": [
    {
     "name": "stdout",
     "output_type": "stream",
     "text": [
      "{'nome': 'Ana', 'idade': 28, 'cursos': ['Flask', 'Pandas']}\n",
      "<class 'dict'>\n"
     ]
    }
   ],
   "source": [
    "# String json\n",
    "json_str = '''\n",
    "{\n",
    "    \"nome\": \"Ana\",\n",
    "    \"idade\": 28,\n",
    "    \"cursos\": [\"Flask\", \"Pandas\"]\n",
    "}\n",
    "'''\n",
    "\n",
    "dados = json.loads(json_str) # convertendo uma string json para um dicionário python\n",
    "print(dados)\n",
    "print(type(dados))  # <class 'dict'>\n"
   ]
  },
  {
   "cell_type": "markdown",
   "id": "3920a2c8",
   "metadata": {},
   "source": [
    "# Exemplo prático"
   ]
  },
  {
   "cell_type": "markdown",
   "id": "f76caddb",
   "metadata": {},
   "source": [
    "## 1 - Login e senha"
   ]
  },
  {
   "cell_type": "markdown",
   "id": "bbd6e8c6",
   "metadata": {},
   "source": [
    "Vamos criar um sistema de cadastro de login e senha."
   ]
  },
  {
   "cell_type": "markdown",
   "id": "6ba5a9ce",
   "metadata": {},
   "source": [
    "O primeiro passo é pedir para o usuário digitar o email e a senha que serão cadastrados no \"banco de dados\" e depois criar um dicionário chamado login contendo duas chaves: \"email\" e \"senha\", os valores das chaves serão as variáveis contendo o que o usuário digitou respectivamente"
   ]
  },
  {
   "cell_type": "code",
   "execution_count": 6,
   "id": "cd215846",
   "metadata": {},
   "outputs": [],
   "source": [
    "email = input('Digite o seu email: ')\n",
    "senha = input('Digite a sua senha: ')\n",
    "\n",
    "login = {\n",
    "    'email' : email,\n",
    "    'senha' : senha\n",
    "}"
   ]
  },
  {
   "cell_type": "markdown",
   "id": "f82042b2",
   "metadata": {},
   "source": [
    "O segundo passo é salvar esse dicionário em um arquivo .json chamado 'login.json' utilizando o módulo json"
   ]
  },
  {
   "cell_type": "code",
   "execution_count": 7,
   "id": "4c701f53",
   "metadata": {},
   "outputs": [],
   "source": [
    "import json\n",
    "\n",
    "with open('login.json', 'w', encoding='utf-8') as arquivo:\n",
    "    json.dump(login, arquivo, indent=4, ensure_ascii=False)\n",
    "    "
   ]
  },
  {
   "cell_type": "markdown",
   "id": "babe11a2",
   "metadata": {},
   "source": [
    "**Dados do usuário salvos no \"banco de dados\"**"
   ]
  },
  {
   "cell_type": "markdown",
   "id": "76c1c556",
   "metadata": {},
   "source": [
    "Agora vamos fazer a verificação da senha, primeiro vamos ler o arquivo \"login.json\" e convertelo para um dicionário Python. Depois vamos pedir para o usuário \"tentar acessar nossos sistema\" como se fosse um sistema de verdade, pedindo o email e senha dele."
   ]
  },
  {
   "cell_type": "markdown",
   "id": "3af7143d",
   "metadata": {},
   "source": [
    "Em seguida vamos fazer a verificação dos dados que o usuário digitou com os dados salvos no arquivo. Se os dados forem os mesmo, mostramos na tela \"Acesso liberado\", caso contrário, mostramos na tela \"Acesso negado\""
   ]
  },
  {
   "cell_type": "code",
   "execution_count": 9,
   "id": "39b08a08",
   "metadata": {},
   "outputs": [
    {
     "name": "stdout",
     "output_type": "stream",
     "text": [
      "Acesso liberado!\n"
     ]
    }
   ],
   "source": [
    "with open('login.json', 'r', encoding='utf-8') as arquivo:\n",
    "    dados = json.load(arquivo)\n",
    "\n",
    "email = input('Digite o seu email: ')\n",
    "senha = input('Digite a sua senha: ')\n",
    "\n",
    "if email == dados['email'] and senha == dados['senha']:\n",
    "    print('Acesso liberado!')\n",
    "else:\n",
    "    print('Acesso negado!')"
   ]
  }
 ],
 "metadata": {
  "kernelspec": {
   "display_name": "Python 3",
   "language": "python",
   "name": "python3"
  },
  "language_info": {
   "codemirror_mode": {
    "name": "ipython",
    "version": 3
   },
   "file_extension": ".py",
   "mimetype": "text/x-python",
   "name": "python",
   "nbconvert_exporter": "python",
   "pygments_lexer": "ipython3",
   "version": "3.13.2"
  }
 },
 "nbformat": 4,
 "nbformat_minor": 5
}
