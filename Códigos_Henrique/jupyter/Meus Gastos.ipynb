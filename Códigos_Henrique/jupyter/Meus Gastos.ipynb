{
 "cells": [
  {
   "cell_type": "markdown",
   "id": "3f793724",
   "metadata": {},
   "source": [
    "### CLT"
   ]
  },
  {
   "cell_type": "code",
   "execution_count": 1,
   "id": "77b08d01",
   "metadata": {},
   "outputs": [
    {
     "name": "stdout",
     "output_type": "stream",
     "text": [
      "Ficaria devendo -2870\n"
     ]
    }
   ],
   "source": [
    "salario = 1200\n",
    "gasolina = 200\n",
    "internet = 200\n",
    "alimentaçao = 1500\n",
    "agua = 100 \n",
    "luz = 300 \n",
    "condominio = 570\n",
    "entretenimento = 1200\n",
    "\n",
    "total_casto = gasolina + internet + alimentaçao + agua + luz + condominio + entretenimento\n",
    "\n",
    "devendo = salario - total_casto\n",
    "\n",
    "print(f\"Ficaria devendo {devendo}\")"
   ]
  },
  {
   "cell_type": "markdown",
   "id": "e6d518f8",
   "metadata": {},
   "source": [
    "### Meus Gastos"
   ]
  },
  {
   "cell_type": "code",
   "execution_count": 1,
   "id": "7ed0b5f6",
   "metadata": {},
   "outputs": [
    {
     "name": "stdout",
     "output_type": "stream",
     "text": [
      "Por mês eu gasto 460\n"
     ]
    }
   ],
   "source": [
    "comida = 170\n",
    "energia = 80\n",
    "agua = 70\n",
    "internet = 140\n",
    "\n",
    "total = comida + energia + agua + internet\n",
    "\n",
    "print(f'Por mês eu gasto {total}')"
   ]
  },
  {
   "cell_type": "code",
   "execution_count": null,
   "id": "a5e99c62",
   "metadata": {},
   "outputs": [],
   "source": []
  }
 ],
 "metadata": {
  "kernelspec": {
   "display_name": "Python 3",
   "language": "python",
   "name": "python3"
  },
  "language_info": {
   "codemirror_mode": {
    "name": "ipython",
    "version": 3
   },
   "file_extension": ".py",
   "mimetype": "text/x-python",
   "name": "python",
   "nbconvert_exporter": "python",
   "pygments_lexer": "ipython3",
   "version": "3.13.2"
  }
 },
 "nbformat": 4,
 "nbformat_minor": 5
}
