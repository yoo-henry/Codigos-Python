{
  "cells": [
    {
      "cell_type": "markdown",
      "id": "625568ff",
      "metadata": {
        "id": "625568ff"
      },
      "source": [
        "# Tipos de Dados + Operadores Aritméticos em Python"
      ]
    },
    {
      "cell_type": "markdown",
      "id": "88955f40",
      "metadata": {
        "id": "88955f40"
      },
      "source": [
        "##  Tipos de Dados em Python"
      ]
    },
    {
      "cell_type": "markdown",
      "id": "9803f193",
      "metadata": {
        "id": "9803f193"
      },
      "source": [
        "1. str (string): texto"
      ]
    },
    {
      "cell_type": "code",
      "execution_count": null,
      "id": "2c4d3e5b",
      "metadata": {
        "id": "2c4d3e5b"
      },
      "outputs": [],
      "source": [
        "texto = 'OOOI'"
      ]
    },
    {
      "cell_type": "markdown",
      "id": "1a7663b7",
      "metadata": {
        "id": "1a7663b7"
      },
      "source": [
        "2. int (integer): número inteiro"
      ]
    },
    {
      "cell_type": "code",
      "execution_count": null,
      "id": "aded0696",
      "metadata": {
        "id": "aded0696"
      },
      "outputs": [],
      "source": [
        "idade = 16\n",
        "ano = 2025"
      ]
    },
    {
      "cell_type": "markdown",
      "id": "e18c62b6",
      "metadata": {
        "id": "e18c62b6"
      },
      "source": [
        "3. float: número decimal (com ponto)"
      ]
    },
    {
      "cell_type": "code",
      "execution_count": null,
      "id": "11fa5c48",
      "metadata": {
        "id": "11fa5c48"
      },
      "outputs": [],
      "source": [
        "altura = 1.65\n",
        "nota = 8.75"
      ]
    },
    {
      "cell_type": "markdown",
      "id": "a1ea84b3",
      "metadata": {
        "id": "a1ea84b3"
      },
      "source": [
        "### Verificando o tipo com type()"
      ]
    },
    {
      "cell_type": "code",
      "execution_count": null,
      "id": "cb58b5ab",
      "metadata": {
        "id": "cb58b5ab",
        "outputId": "38c82639-b430-4a66-9b1e-48fe7a636f70"
      },
      "outputs": [
        {
          "name": "stdout",
          "output_type": "stream",
          "text": [
            "<class 'str'>\n",
            "<class 'int'>\n",
            "<class 'float'>\n"
          ]
        }
      ],
      "source": [
        "print(type(\"Oi\"))      # str\n",
        "print(type(7))         # int\n",
        "print(type(3.14))      # float"
      ]
    },
    {
      "cell_type": "markdown",
      "id": "e5df73c2",
      "metadata": {
        "id": "e5df73c2"
      },
      "source": [
        "## Operadores Aritméticos"
      ]
    },
    {
      "cell_type": "markdown",
      "id": "0514c6eb",
      "metadata": {
        "id": "0514c6eb"
      },
      "source": [
        "![image.png](attachment:image.png)"
      ]
    },
    {
      "cell_type": "code",
      "execution_count": null,
      "id": "40113253",
      "metadata": {
        "id": "40113253",
        "outputId": "12890964-1177-4b18-80c3-eb97e318d01f"
      },
      "outputs": [
        {
          "name": "stdout",
          "output_type": "stream",
          "text": [
            "1.0\n"
          ]
        }
      ],
      "source": [
        "conta = 2/2\n",
        "print(conta)"
      ]
    },
    {
      "cell_type": "code",
      "execution_count": null,
      "id": "80e3ef70",
      "metadata": {
        "id": "80e3ef70",
        "outputId": "122110a2-d123-4ee2-99a1-2a2943ff821b"
      },
      "outputs": [
        {
          "name": "stdout",
          "output_type": "stream",
          "text": [
            "1\n"
          ]
        }
      ],
      "source": [
        "conta = 2//2\n",
        "print(conta)"
      ]
    },
    {
      "cell_type": "code",
      "execution_count": null,
      "id": "77998cae",
      "metadata": {
        "id": "77998cae",
        "outputId": "d8296edc-1336-4efb-da0b-9e74dfbd38b5"
      },
      "outputs": [
        {
          "name": "stdout",
          "output_type": "stream",
          "text": [
            "O número é ímpar!\n"
          ]
        }
      ],
      "source": [
        "numero = 1\n",
        "if numero % 2 == 0:\n",
        "    print('O número é par!')\n",
        "else:\n",
        "    print('O número é ímpar!')"
      ]
    },
    {
      "cell_type": "markdown",
      "id": "9ba95618",
      "metadata": {
        "id": "9ba95618"
      },
      "source": [
        "### Exemplos:"
      ]
    },
    {
      "cell_type": "code",
      "execution_count": null,
      "id": "c32a06e6",
      "metadata": {
        "id": "c32a06e6",
        "outputId": "f4908531-a1b1-41b7-8822-428df47f8e94"
      },
      "outputs": [
        {
          "name": "stdout",
          "output_type": "stream",
          "text": [
            "Soma: 13\n",
            "Subtração: 7\n",
            "Multiplicação: 30\n",
            "Divisão: 3.3333333333333335\n"
          ]
        }
      ],
      "source": [
        "# Exemplo 1\n",
        "a = 10\n",
        "b = 3\n",
        "\n",
        "soma = a + b\n",
        "subtracao = a - b\n",
        "multiplicacao = a * b\n",
        "divisao = a / b\n",
        "\n",
        "print(\"Soma:\", soma)\n",
        "print(\"Subtração:\", subtracao)\n",
        "print(\"Multiplicação:\", multiplicacao)\n",
        "print(\"Divisão:\", divisao)\n"
      ]
    },
    {
      "cell_type": "markdown",
      "id": "aa540a2c",
      "metadata": {
        "id": "aa540a2c"
      },
      "source": [
        "### Atenção: divisão com / sempre retorna float"
      ]
    },
    {
      "cell_type": "code",
      "execution_count": null,
      "id": "7631d790",
      "metadata": {
        "id": "7631d790",
        "outputId": "78515093-e784-45ef-9c1e-426440d2ebfc"
      },
      "outputs": [
        {
          "name": "stdout",
          "output_type": "stream",
          "text": [
            "5.0\n",
            "5\n"
          ]
        }
      ],
      "source": [
        "print(10 / 2)   # 5.0 (float)\n",
        "print(10 // 2)  # 5 (int)"
      ]
    },
    {
      "cell_type": "code",
      "execution_count": null,
      "id": "54f3e709",
      "metadata": {
        "id": "54f3e709",
        "outputId": "bf7072cb-deea-4131-8f69-c1713721a42e"
      },
      "outputs": [
        {
          "data": {
            "text/plain": [
              "True"
            ]
          },
          "execution_count": 33,
          "metadata": {},
          "output_type": "execute_result"
        }
      ],
      "source": [
        "10 < 11"
      ]
    },
    {
      "cell_type": "code",
      "execution_count": null,
      "id": "8ce7ad78",
      "metadata": {
        "id": "8ce7ad78"
      },
      "outputs": [],
      "source": []
    }
  ],
  "metadata": {
    "kernelspec": {
      "display_name": "env",
      "language": "python",
      "name": "python3"
    },
    "language_info": {
      "codemirror_mode": {
        "name": "ipython",
        "version": 3
      },
      "file_extension": ".py",
      "mimetype": "text/x-python",
      "name": "python",
      "nbconvert_exporter": "python",
      "pygments_lexer": "ipython3",
      "version": "3.13.2"
    },
    "colab": {
      "provenance": []
    }
  },
  "nbformat": 4,
  "nbformat_minor": 5
}