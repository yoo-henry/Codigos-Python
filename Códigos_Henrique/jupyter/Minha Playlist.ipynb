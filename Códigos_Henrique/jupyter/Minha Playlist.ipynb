{
 "cells": [
  {
   "cell_type": "markdown",
   "id": "bade6813",
   "metadata": {},
   "source": [
    "### Minha Playlist"
   ]
  },
  {
   "cell_type": "code",
   "execution_count": 4,
   "id": "dc9c69ca",
   "metadata": {},
   "outputs": [
    {
     "name": "stdout",
     "output_type": "stream",
     "text": [
      "Monëy So Big\n"
     ]
    }
   ],
   "source": [
    "playlist = [\"Monëy So Big\",\"Gët Busy\",\"Talk 2 Me\",\"Twizzy Rich\",\"Sorry Bout That\"]\n",
    "print(playlist[0])"
   ]
  },
  {
   "cell_type": "code",
   "execution_count": null,
   "id": "c0063c77",
   "metadata": {},
   "outputs": [],
   "source": []
  }
 ],
 "metadata": {
  "kernelspec": {
   "display_name": "Python 3",
   "language": "python",
   "name": "python3"
  },
  "language_info": {
   "codemirror_mode": {
    "name": "ipython",
    "version": 3
   },
   "file_extension": ".py",
   "mimetype": "text/x-python",
   "name": "python",
   "nbconvert_exporter": "python",
   "pygments_lexer": "ipython3",
   "version": "3.13.2"
  }
 },
 "nbformat": 4,
 "nbformat_minor": 5
}
